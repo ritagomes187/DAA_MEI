{
 "cells": [
  {
   "cell_type": "code",
   "execution_count": 159,
   "metadata": {},
   "outputs": [],
   "source": [
    "import sklearn as skl\n",
    "import pandas as pd \n",
    "import matplotlib.pyplot as plt\n",
    "import seaborn as sns\n",
    "import numpy as np\n",
    "from sklearn import preprocessing  \n",
    "from sklearn.tree import DecisionTreeRegressor\n",
    "from sklearn import preprocessing\n",
    "import sklearn\n",
    "from sklearn.svm import SVC\n",
    "from sklearn import metrics\n",
    "from sklearn.metrics import mean_absolute_error\n",
    "from sklearn.model_selection import train_test_split\n",
    "from sklearn.metrics import confusion_matrix\n",
    "from sklearn.metrics import accuracy_score\n",
    "from sklearn.metrics import precision_score\n",
    "from sklearn.metrics import recall_score\n",
    "from sklearn.linear_model import LinearRegression\n",
    "import tensorflow as tf\n",
    "from tensorflow.keras.models import Sequential\n",
    "from tensorflow.keras.layers import Dense, Dropout, BatchNormalization\n",
    "from tensorflow.keras.wrappers.scikit_learn import KerasRegressor\n",
    "from sklearn.model_selection import GridSearchCV, KFold, train_test_split\n",
    "from sklearn.preprocessing import MinMaxScaler\n",
    "from sklearn.model_selection import cross_val_score\n",
    "from livelossplot import PlotLossesKerasTF\n",
    "\n",
    "RANDOM_SEED = 2021"
   ]
  },
  {
   "cell_type": "markdown",
   "metadata": {},
   "source": [
    "# Data Visualization"
   ]
  },
  {
   "cell_type": "code",
   "execution_count": 160,
   "metadata": {},
   "outputs": [],
   "source": [
    "# Read csv file\n",
    "df = pd.read_csv('../datasets/properties_data.csv')\n"
   ]
  },
  {
   "cell_type": "code",
   "execution_count": 161,
   "metadata": {},
   "outputs": [
    {
     "data": {
      "text/html": [
       "<div>\n",
       "<style scoped>\n",
       "    .dataframe tbody tr th:only-of-type {\n",
       "        vertical-align: middle;\n",
       "    }\n",
       "\n",
       "    .dataframe tbody tr th {\n",
       "        vertical-align: top;\n",
       "    }\n",
       "\n",
       "    .dataframe thead th {\n",
       "        text-align: right;\n",
       "    }\n",
       "</style>\n",
       "<table border=\"1\" class=\"dataframe\">\n",
       "  <thead>\n",
       "    <tr style=\"text-align: right;\">\n",
       "      <th></th>\n",
       "      <th>id</th>\n",
       "      <th>neighborhood</th>\n",
       "      <th>latitude</th>\n",
       "      <th>longitude</th>\n",
       "      <th>price</th>\n",
       "      <th>size_in_sqft</th>\n",
       "      <th>price_per_sqft</th>\n",
       "      <th>no_of_bedrooms</th>\n",
       "      <th>no_of_bathrooms</th>\n",
       "      <th>quality</th>\n",
       "      <th>...</th>\n",
       "      <th>private_pool</th>\n",
       "      <th>security</th>\n",
       "      <th>shared_gym</th>\n",
       "      <th>shared_pool</th>\n",
       "      <th>shared_spa</th>\n",
       "      <th>study</th>\n",
       "      <th>vastu_compliant</th>\n",
       "      <th>view_of_landmark</th>\n",
       "      <th>view_of_water</th>\n",
       "      <th>walk_in_closet</th>\n",
       "    </tr>\n",
       "  </thead>\n",
       "  <tbody>\n",
       "    <tr>\n",
       "      <th>0</th>\n",
       "      <td>5528049</td>\n",
       "      <td>Palm Jumeirah</td>\n",
       "      <td>25.113208</td>\n",
       "      <td>55.138932</td>\n",
       "      <td>2700000</td>\n",
       "      <td>1079</td>\n",
       "      <td>2502.32</td>\n",
       "      <td>1</td>\n",
       "      <td>2</td>\n",
       "      <td>Medium</td>\n",
       "      <td>...</td>\n",
       "      <td>False</td>\n",
       "      <td>False</td>\n",
       "      <td>True</td>\n",
       "      <td>False</td>\n",
       "      <td>False</td>\n",
       "      <td>False</td>\n",
       "      <td>False</td>\n",
       "      <td>False</td>\n",
       "      <td>True</td>\n",
       "      <td>False</td>\n",
       "    </tr>\n",
       "    <tr>\n",
       "      <th>1</th>\n",
       "      <td>6008529</td>\n",
       "      <td>Palm Jumeirah</td>\n",
       "      <td>25.106809</td>\n",
       "      <td>55.151201</td>\n",
       "      <td>2850000</td>\n",
       "      <td>1582</td>\n",
       "      <td>1801.52</td>\n",
       "      <td>2</td>\n",
       "      <td>2</td>\n",
       "      <td>Medium</td>\n",
       "      <td>...</td>\n",
       "      <td>False</td>\n",
       "      <td>False</td>\n",
       "      <td>True</td>\n",
       "      <td>True</td>\n",
       "      <td>False</td>\n",
       "      <td>False</td>\n",
       "      <td>False</td>\n",
       "      <td>False</td>\n",
       "      <td>True</td>\n",
       "      <td>False</td>\n",
       "    </tr>\n",
       "    <tr>\n",
       "      <th>2</th>\n",
       "      <td>6034542</td>\n",
       "      <td>Jumeirah Lake Towers</td>\n",
       "      <td>25.063302</td>\n",
       "      <td>55.137728</td>\n",
       "      <td>1150000</td>\n",
       "      <td>1951</td>\n",
       "      <td>589.44</td>\n",
       "      <td>3</td>\n",
       "      <td>5</td>\n",
       "      <td>Medium</td>\n",
       "      <td>...</td>\n",
       "      <td>False</td>\n",
       "      <td>True</td>\n",
       "      <td>True</td>\n",
       "      <td>True</td>\n",
       "      <td>False</td>\n",
       "      <td>False</td>\n",
       "      <td>False</td>\n",
       "      <td>True</td>\n",
       "      <td>True</td>\n",
       "      <td>True</td>\n",
       "    </tr>\n",
       "    <tr>\n",
       "      <th>3</th>\n",
       "      <td>6326063</td>\n",
       "      <td>Culture Village</td>\n",
       "      <td>25.227295</td>\n",
       "      <td>55.341761</td>\n",
       "      <td>2850000</td>\n",
       "      <td>2020</td>\n",
       "      <td>1410.89</td>\n",
       "      <td>2</td>\n",
       "      <td>3</td>\n",
       "      <td>Low</td>\n",
       "      <td>...</td>\n",
       "      <td>False</td>\n",
       "      <td>False</td>\n",
       "      <td>False</td>\n",
       "      <td>False</td>\n",
       "      <td>False</td>\n",
       "      <td>False</td>\n",
       "      <td>False</td>\n",
       "      <td>False</td>\n",
       "      <td>False</td>\n",
       "      <td>False</td>\n",
       "    </tr>\n",
       "    <tr>\n",
       "      <th>4</th>\n",
       "      <td>6356778</td>\n",
       "      <td>Palm Jumeirah</td>\n",
       "      <td>25.114275</td>\n",
       "      <td>55.139764</td>\n",
       "      <td>1729200</td>\n",
       "      <td>507</td>\n",
       "      <td>3410.65</td>\n",
       "      <td>0</td>\n",
       "      <td>1</td>\n",
       "      <td>Medium</td>\n",
       "      <td>...</td>\n",
       "      <td>False</td>\n",
       "      <td>True</td>\n",
       "      <td>True</td>\n",
       "      <td>True</td>\n",
       "      <td>True</td>\n",
       "      <td>False</td>\n",
       "      <td>False</td>\n",
       "      <td>True</td>\n",
       "      <td>True</td>\n",
       "      <td>False</td>\n",
       "    </tr>\n",
       "  </tbody>\n",
       "</table>\n",
       "<p>5 rows × 38 columns</p>\n",
       "</div>"
      ],
      "text/plain": [
       "        id          neighborhood   latitude  longitude    price  size_in_sqft  \\\n",
       "0  5528049         Palm Jumeirah  25.113208  55.138932  2700000          1079   \n",
       "1  6008529         Palm Jumeirah  25.106809  55.151201  2850000          1582   \n",
       "2  6034542  Jumeirah Lake Towers  25.063302  55.137728  1150000          1951   \n",
       "3  6326063       Culture Village  25.227295  55.341761  2850000          2020   \n",
       "4  6356778         Palm Jumeirah  25.114275  55.139764  1729200           507   \n",
       "\n",
       "   price_per_sqft  no_of_bedrooms  no_of_bathrooms quality  ...  private_pool  \\\n",
       "0         2502.32               1                2  Medium  ...         False   \n",
       "1         1801.52               2                2  Medium  ...         False   \n",
       "2          589.44               3                5  Medium  ...         False   \n",
       "3         1410.89               2                3     Low  ...         False   \n",
       "4         3410.65               0                1  Medium  ...         False   \n",
       "\n",
       "   security  shared_gym  shared_pool  shared_spa  study  vastu_compliant  \\\n",
       "0     False        True        False       False  False            False   \n",
       "1     False        True         True       False  False            False   \n",
       "2      True        True         True       False  False            False   \n",
       "3     False       False        False       False  False            False   \n",
       "4      True        True         True        True  False            False   \n",
       "\n",
       "   view_of_landmark  view_of_water  walk_in_closet  \n",
       "0             False           True           False  \n",
       "1             False           True           False  \n",
       "2              True           True            True  \n",
       "3             False          False           False  \n",
       "4              True           True           False  \n",
       "\n",
       "[5 rows x 38 columns]"
      ]
     },
     "execution_count": 161,
     "metadata": {},
     "output_type": "execute_result"
    }
   ],
   "source": [
    "# See first 5 lines\n",
    "df.head()"
   ]
  },
  {
   "cell_type": "code",
   "execution_count": 162,
   "metadata": {},
   "outputs": [
    {
     "data": {
      "text/plain": [
       "(1905, 38)"
      ]
     },
     "execution_count": 162,
     "metadata": {},
     "output_type": "execute_result"
    }
   ],
   "source": [
    "# See number of lines and columns (lines,columns)\n",
    "df.shape\n"
   ]
  },
  {
   "cell_type": "code",
   "execution_count": 163,
   "metadata": {},
   "outputs": [
    {
     "name": "stdout",
     "output_type": "stream",
     "text": [
      "<class 'pandas.core.frame.DataFrame'>\n",
      "RangeIndex: 1905 entries, 0 to 1904\n",
      "Data columns (total 38 columns):\n",
      " #   Column               Non-Null Count  Dtype  \n",
      "---  ------               --------------  -----  \n",
      " 0   id                   1905 non-null   int64  \n",
      " 1   neighborhood         1905 non-null   object \n",
      " 2   latitude             1905 non-null   float64\n",
      " 3   longitude            1905 non-null   float64\n",
      " 4   price                1905 non-null   int64  \n",
      " 5   size_in_sqft         1905 non-null   int64  \n",
      " 6   price_per_sqft       1905 non-null   float64\n",
      " 7   no_of_bedrooms       1905 non-null   int64  \n",
      " 8   no_of_bathrooms      1905 non-null   int64  \n",
      " 9   quality              1905 non-null   object \n",
      " 10  maid_room            1905 non-null   bool   \n",
      " 11  unfurnished          1905 non-null   bool   \n",
      " 12  balcony              1905 non-null   bool   \n",
      " 13  barbecue_area        1905 non-null   bool   \n",
      " 14  built_in_wardrobes   1905 non-null   bool   \n",
      " 15  central_ac           1905 non-null   bool   \n",
      " 16  childrens_play_area  1905 non-null   bool   \n",
      " 17  childrens_pool       1905 non-null   bool   \n",
      " 18  concierge            1905 non-null   bool   \n",
      " 19  covered_parking      1905 non-null   bool   \n",
      " 20  kitchen_appliances   1905 non-null   bool   \n",
      " 21  lobby_in_building    1905 non-null   bool   \n",
      " 22  maid_service         1905 non-null   bool   \n",
      " 23  networked            1905 non-null   bool   \n",
      " 24  pets_allowed         1905 non-null   bool   \n",
      " 25  private_garden       1905 non-null   bool   \n",
      " 26  private_gym          1905 non-null   bool   \n",
      " 27  private_jacuzzi      1905 non-null   bool   \n",
      " 28  private_pool         1905 non-null   bool   \n",
      " 29  security             1905 non-null   bool   \n",
      " 30  shared_gym           1905 non-null   bool   \n",
      " 31  shared_pool          1905 non-null   bool   \n",
      " 32  shared_spa           1905 non-null   bool   \n",
      " 33  study                1905 non-null   bool   \n",
      " 34  vastu_compliant      1905 non-null   bool   \n",
      " 35  view_of_landmark     1905 non-null   bool   \n",
      " 36  view_of_water        1905 non-null   bool   \n",
      " 37  walk_in_closet       1905 non-null   bool   \n",
      "dtypes: bool(28), float64(3), int64(5), object(2)\n",
      "memory usage: 201.0+ KB\n"
     ]
    }
   ],
   "source": [
    "# See types of each attribute\n",
    "df.info()"
   ]
  },
  {
   "cell_type": "code",
   "execution_count": 164,
   "metadata": {},
   "outputs": [
    {
     "data": {
      "text/plain": [
       "id                     1905\n",
       "neighborhood             54\n",
       "latitude                723\n",
       "longitude               722\n",
       "price                   821\n",
       "size_in_sqft           1121\n",
       "price_per_sqft         1784\n",
       "no_of_bedrooms            6\n",
       "no_of_bathrooms           6\n",
       "quality                   4\n",
       "maid_room                 2\n",
       "unfurnished               2\n",
       "balcony                   2\n",
       "barbecue_area             2\n",
       "built_in_wardrobes        2\n",
       "central_ac                2\n",
       "childrens_play_area       2\n",
       "childrens_pool            2\n",
       "concierge                 2\n",
       "covered_parking           2\n",
       "kitchen_appliances        2\n",
       "lobby_in_building         2\n",
       "maid_service              2\n",
       "networked                 2\n",
       "pets_allowed              2\n",
       "private_garden            2\n",
       "private_gym               2\n",
       "private_jacuzzi           2\n",
       "private_pool              2\n",
       "security                  2\n",
       "shared_gym                2\n",
       "shared_pool               2\n",
       "shared_spa                2\n",
       "study                     2\n",
       "vastu_compliant           2\n",
       "view_of_landmark          2\n",
       "view_of_water             2\n",
       "walk_in_closet            2\n",
       "dtype: int64"
      ]
     },
     "execution_count": 164,
     "metadata": {},
     "output_type": "execute_result"
    }
   ],
   "source": [
    "# See number of different values of each attribute\n",
    "df.nunique()"
   ]
  },
  {
   "cell_type": "code",
   "execution_count": 165,
   "metadata": {},
   "outputs": [
    {
     "data": {
      "text/html": [
       "<div>\n",
       "<style scoped>\n",
       "    .dataframe tbody tr th:only-of-type {\n",
       "        vertical-align: middle;\n",
       "    }\n",
       "\n",
       "    .dataframe tbody tr th {\n",
       "        vertical-align: top;\n",
       "    }\n",
       "\n",
       "    .dataframe thead th {\n",
       "        text-align: right;\n",
       "    }\n",
       "</style>\n",
       "<table border=\"1\" class=\"dataframe\">\n",
       "  <thead>\n",
       "    <tr style=\"text-align: right;\">\n",
       "      <th></th>\n",
       "      <th>id</th>\n",
       "      <th>latitude</th>\n",
       "      <th>longitude</th>\n",
       "      <th>price</th>\n",
       "      <th>size_in_sqft</th>\n",
       "      <th>price_per_sqft</th>\n",
       "      <th>no_of_bedrooms</th>\n",
       "      <th>no_of_bathrooms</th>\n",
       "    </tr>\n",
       "  </thead>\n",
       "  <tbody>\n",
       "    <tr>\n",
       "      <th>count</th>\n",
       "      <td>1.905000e+03</td>\n",
       "      <td>1905.000000</td>\n",
       "      <td>1905.000000</td>\n",
       "      <td>1.905000e+03</td>\n",
       "      <td>1905.000000</td>\n",
       "      <td>1905.000000</td>\n",
       "      <td>1905.000000</td>\n",
       "      <td>1905.000000</td>\n",
       "    </tr>\n",
       "    <tr>\n",
       "      <th>mean</th>\n",
       "      <td>7.573308e+06</td>\n",
       "      <td>25.116538</td>\n",
       "      <td>55.212338</td>\n",
       "      <td>2.085830e+06</td>\n",
       "      <td>1417.050394</td>\n",
       "      <td>1327.243785</td>\n",
       "      <td>1.793176</td>\n",
       "      <td>2.512861</td>\n",
       "    </tr>\n",
       "    <tr>\n",
       "      <th>std</th>\n",
       "      <td>1.925252e+05</td>\n",
       "      <td>0.062647</td>\n",
       "      <td>0.068794</td>\n",
       "      <td>2.913200e+06</td>\n",
       "      <td>891.487639</td>\n",
       "      <td>668.473559</td>\n",
       "      <td>0.949489</td>\n",
       "      <td>1.063117</td>\n",
       "    </tr>\n",
       "    <tr>\n",
       "      <th>min</th>\n",
       "      <td>5.528049e+06</td>\n",
       "      <td>24.865992</td>\n",
       "      <td>55.069311</td>\n",
       "      <td>2.200000e+05</td>\n",
       "      <td>294.000000</td>\n",
       "      <td>361.870000</td>\n",
       "      <td>0.000000</td>\n",
       "      <td>1.000000</td>\n",
       "    </tr>\n",
       "    <tr>\n",
       "      <th>25%</th>\n",
       "      <td>7.560167e+06</td>\n",
       "      <td>25.072791</td>\n",
       "      <td>55.145389</td>\n",
       "      <td>8.900000e+05</td>\n",
       "      <td>840.000000</td>\n",
       "      <td>870.920000</td>\n",
       "      <td>1.000000</td>\n",
       "      <td>2.000000</td>\n",
       "    </tr>\n",
       "    <tr>\n",
       "      <th>50%</th>\n",
       "      <td>7.631829e+06</td>\n",
       "      <td>25.096700</td>\n",
       "      <td>55.207506</td>\n",
       "      <td>1.400000e+06</td>\n",
       "      <td>1271.000000</td>\n",
       "      <td>1169.590000</td>\n",
       "      <td>2.000000</td>\n",
       "      <td>2.000000</td>\n",
       "    </tr>\n",
       "    <tr>\n",
       "      <th>75%</th>\n",
       "      <td>7.670328e+06</td>\n",
       "      <td>25.188130</td>\n",
       "      <td>55.271797</td>\n",
       "      <td>2.200000e+06</td>\n",
       "      <td>1703.000000</td>\n",
       "      <td>1622.500000</td>\n",
       "      <td>2.000000</td>\n",
       "      <td>3.000000</td>\n",
       "    </tr>\n",
       "    <tr>\n",
       "      <th>max</th>\n",
       "      <td>7.706643e+06</td>\n",
       "      <td>25.273623</td>\n",
       "      <td>55.441623</td>\n",
       "      <td>3.500000e+07</td>\n",
       "      <td>9576.000000</td>\n",
       "      <td>4805.870000</td>\n",
       "      <td>5.000000</td>\n",
       "      <td>6.000000</td>\n",
       "    </tr>\n",
       "  </tbody>\n",
       "</table>\n",
       "</div>"
      ],
      "text/plain": [
       "                 id     latitude    longitude         price  size_in_sqft  \\\n",
       "count  1.905000e+03  1905.000000  1905.000000  1.905000e+03   1905.000000   \n",
       "mean   7.573308e+06    25.116538    55.212338  2.085830e+06   1417.050394   \n",
       "std    1.925252e+05     0.062647     0.068794  2.913200e+06    891.487639   \n",
       "min    5.528049e+06    24.865992    55.069311  2.200000e+05    294.000000   \n",
       "25%    7.560167e+06    25.072791    55.145389  8.900000e+05    840.000000   \n",
       "50%    7.631829e+06    25.096700    55.207506  1.400000e+06   1271.000000   \n",
       "75%    7.670328e+06    25.188130    55.271797  2.200000e+06   1703.000000   \n",
       "max    7.706643e+06    25.273623    55.441623  3.500000e+07   9576.000000   \n",
       "\n",
       "       price_per_sqft  no_of_bedrooms  no_of_bathrooms  \n",
       "count     1905.000000     1905.000000      1905.000000  \n",
       "mean      1327.243785        1.793176         2.512861  \n",
       "std        668.473559        0.949489         1.063117  \n",
       "min        361.870000        0.000000         1.000000  \n",
       "25%        870.920000        1.000000         2.000000  \n",
       "50%       1169.590000        2.000000         2.000000  \n",
       "75%       1622.500000        2.000000         3.000000  \n",
       "max       4805.870000        5.000000         6.000000  "
      ]
     },
     "execution_count": 165,
     "metadata": {},
     "output_type": "execute_result"
    }
   ],
   "source": [
    "#See all Stats\n",
    "df.describe()"
   ]
  },
  {
   "cell_type": "code",
   "execution_count": 166,
   "metadata": {},
   "outputs": [
    {
     "data": {
      "text/plain": [
       "count    1.905000e+03\n",
       "mean     2.085830e+06\n",
       "std      2.913200e+06\n",
       "min      2.200000e+05\n",
       "25%      8.900000e+05\n",
       "50%      1.400000e+06\n",
       "75%      2.200000e+06\n",
       "max      3.500000e+07\n",
       "Name: price, dtype: float64"
      ]
     },
     "execution_count": 166,
     "metadata": {},
     "output_type": "execute_result"
    }
   ],
   "source": [
    "# See Stats of attribute Price \n",
    "df['price'].describe()"
   ]
  },
  {
   "cell_type": "code",
   "execution_count": 167,
   "metadata": {},
   "outputs": [
    {
     "data": {
      "text/plain": [
       "<seaborn.axisgrid.FacetGrid at 0x7f7c7c40de80>"
      ]
     },
     "execution_count": 167,
     "metadata": {},
     "output_type": "execute_result"
    },
    {
     "data": {
      "image/png": "[encoded data removed]",
      "text/plain": [
       "<Figure size 360x360 with 1 Axes>"
      ]
     },
     "metadata": {
      "needs_background": "light"
     },
     "output_type": "display_data"
    },
    {
     "data": {
      "image/png": "[encoded data removed]",
      "text/plain": [
       "<Figure size 360x360 with 1 Axes>"
      ]
     },
     "metadata": {
      "needs_background": "light"
     },
     "output_type": "display_data"
    }
   ],
   "source": [
    "# See how prices are distributed\n",
    "sns.displot(df,x=\"price\")\n",
    "sns.displot(df,x=\"price\",kind=\"kde\")"
   ]
  },
  {
   "cell_type": "code",
   "execution_count": 168,
   "metadata": {},
   "outputs": [
    {
     "name": "stdout",
     "output_type": "stream",
     "text": [
      "id                     0\n",
      "neighborhood           0\n",
      "latitude               0\n",
      "longitude              0\n",
      "price                  0\n",
      "size_in_sqft           0\n",
      "price_per_sqft         0\n",
      "no_of_bedrooms         0\n",
      "no_of_bathrooms        0\n",
      "quality                0\n",
      "maid_room              0\n",
      "unfurnished            0\n",
      "balcony                0\n",
      "barbecue_area          0\n",
      "built_in_wardrobes     0\n",
      "central_ac             0\n",
      "childrens_play_area    0\n",
      "childrens_pool         0\n",
      "concierge              0\n",
      "covered_parking        0\n",
      "kitchen_appliances     0\n",
      "lobby_in_building      0\n",
      "maid_service           0\n",
      "networked              0\n",
      "pets_allowed           0\n",
      "private_garden         0\n",
      "private_gym            0\n",
      "private_jacuzzi        0\n",
      "private_pool           0\n",
      "security               0\n",
      "shared_gym             0\n",
      "shared_pool            0\n",
      "shared_spa             0\n",
      "study                  0\n",
      "vastu_compliant        0\n",
      "view_of_landmark       0\n",
      "view_of_water          0\n",
      "walk_in_closet         0\n",
      "dtype: int64\n",
      "0\n"
     ]
    }
   ],
   "source": [
    "# Check for missing values or duplicated data\n",
    "print(df.isna().sum())\n",
    "print(df.duplicated().sum())"
   ]
  },
  {
   "cell_type": "code",
   "execution_count": 169,
   "metadata": {},
   "outputs": [
    {
     "data": {
      "image/png": "[encoded data removed]",
      "text/plain": [
       "<Figure size 1440x576 with 1 Axes>"
      ]
     },
     "metadata": {
      "needs_background": "light"
     },
     "output_type": "display_data"
    }
   ],
   "source": [
    "# Relationship between price and neighborhood\n",
    "sns.catplot( x=\"price\", y=\"neighborhood\", data=df, kind=\"box\", height=8, aspect=2.5)\n",
    "plt.show()"
   ]
  },
  {
   "cell_type": "code",
   "execution_count": 170,
   "metadata": {},
   "outputs": [
    {
     "data": {
      "text/plain": [
       "<seaborn.axisgrid.FacetGrid at 0x7f7c7c30dc88>"
      ]
     },
     "execution_count": 170,
     "metadata": {},
     "output_type": "execute_result"
    },
    {
     "data": {
      "image/png": "[encoded data removed]",
      "text/plain": [
       "<Figure size 360x360 with 1 Axes>"
      ]
     },
     "metadata": {
      "needs_background": "light"
     },
     "output_type": "display_data"
    }
   ],
   "source": [
    "# Relationship between price and number of bedrooms\n",
    "sns.relplot(x=\"no_of_bedrooms\", y=\"price\", data=df)"
   ]
  },
  {
   "cell_type": "code",
   "execution_count": 171,
   "metadata": {},
   "outputs": [
    {
     "data": {
      "text/plain": [
       "<seaborn.axisgrid.FacetGrid at 0x7f7c7c0b55f8>"
      ]
     },
     "execution_count": 171,
     "metadata": {},
     "output_type": "execute_result"
    },
    {
     "data": {
      "image/png": "[encoded data removed]",
      "text/plain": [
       "<Figure size 360x360 with 1 Axes>"
      ]
     },
     "metadata": {
      "needs_background": "light"
     },
     "output_type": "display_data"
    }
   ],
   "source": [
    "# Relationship between price and number of bathrooms\n",
    "sns.relplot(x=\"no_of_bathrooms\", y=\"price\", data=df)"
   ]
  },
  {
   "cell_type": "markdown",
   "metadata": {},
   "source": [
    "# Data Preparation"
   ]
  },
  {
   "cell_type": "code",
   "execution_count": 172,
   "metadata": {},
   "outputs": [
    {
     "name": "stdout",
     "output_type": "stream",
     "text": [
      "<class 'pandas.core.frame.DataFrame'>\n",
      "RangeIndex: 1905 entries, 0 to 1904\n",
      "Data columns (total 9 columns):\n",
      " #   Column           Non-Null Count  Dtype  \n",
      "---  ------           --------------  -----  \n",
      " 0   neighborhood     1905 non-null   object \n",
      " 1   latitude         1905 non-null   float64\n",
      " 2   longitude        1905 non-null   float64\n",
      " 3   price            1905 non-null   int64  \n",
      " 4   size_in_sqft     1905 non-null   int64  \n",
      " 5   price_per_sqft   1905 non-null   float64\n",
      " 6   no_of_bedrooms   1905 non-null   int64  \n",
      " 7   no_of_bathrooms  1905 non-null   int64  \n",
      " 8   quality          1905 non-null   object \n",
      "dtypes: float64(3), int64(4), object(2)\n",
      "memory usage: 134.1+ KB\n"
     ]
    }
   ],
   "source": [
    "# Rename columns\n",
    "\n",
    "# Drop columns\n",
    "df.drop(['id'], axis=1,inplace=True)\n",
    "df = df.iloc[:,:9]\n",
    "df.info()"
   ]
  },
  {
   "cell_type": "code",
   "execution_count": 173,
   "metadata": {},
   "outputs": [
    {
     "data": {
      "text/html": [
       "<div>\n",
       "<style scoped>\n",
       "    .dataframe tbody tr th:only-of-type {\n",
       "        vertical-align: middle;\n",
       "    }\n",
       "\n",
       "    .dataframe tbody tr th {\n",
       "        vertical-align: top;\n",
       "    }\n",
       "\n",
       "    .dataframe thead th {\n",
       "        text-align: right;\n",
       "    }\n",
       "</style>\n",
       "<table border=\"1\" class=\"dataframe\">\n",
       "  <thead>\n",
       "    <tr style=\"text-align: right;\">\n",
       "      <th></th>\n",
       "      <th>neighborhood</th>\n",
       "      <th>latitude</th>\n",
       "      <th>longitude</th>\n",
       "      <th>price</th>\n",
       "      <th>size_in_sqft</th>\n",
       "      <th>price_per_sqft</th>\n",
       "      <th>no_of_bedrooms</th>\n",
       "      <th>no_of_bathrooms</th>\n",
       "      <th>quality</th>\n",
       "    </tr>\n",
       "  </thead>\n",
       "  <tbody>\n",
       "    <tr>\n",
       "      <th>0</th>\n",
       "      <td>Palm Jumeirah</td>\n",
       "      <td>25.113208</td>\n",
       "      <td>55.138932</td>\n",
       "      <td>2700000</td>\n",
       "      <td>1079</td>\n",
       "      <td>2502.32</td>\n",
       "      <td>1</td>\n",
       "      <td>2</td>\n",
       "      <td>2</td>\n",
       "    </tr>\n",
       "    <tr>\n",
       "      <th>1</th>\n",
       "      <td>Palm Jumeirah</td>\n",
       "      <td>25.106809</td>\n",
       "      <td>55.151201</td>\n",
       "      <td>2850000</td>\n",
       "      <td>1582</td>\n",
       "      <td>1801.52</td>\n",
       "      <td>2</td>\n",
       "      <td>2</td>\n",
       "      <td>2</td>\n",
       "    </tr>\n",
       "    <tr>\n",
       "      <th>2</th>\n",
       "      <td>Jumeirah Lake Towers</td>\n",
       "      <td>25.063302</td>\n",
       "      <td>55.137728</td>\n",
       "      <td>1150000</td>\n",
       "      <td>1951</td>\n",
       "      <td>589.44</td>\n",
       "      <td>3</td>\n",
       "      <td>5</td>\n",
       "      <td>2</td>\n",
       "    </tr>\n",
       "    <tr>\n",
       "      <th>3</th>\n",
       "      <td>Culture Village</td>\n",
       "      <td>25.227295</td>\n",
       "      <td>55.341761</td>\n",
       "      <td>2850000</td>\n",
       "      <td>2020</td>\n",
       "      <td>1410.89</td>\n",
       "      <td>2</td>\n",
       "      <td>3</td>\n",
       "      <td>1</td>\n",
       "    </tr>\n",
       "    <tr>\n",
       "      <th>4</th>\n",
       "      <td>Palm Jumeirah</td>\n",
       "      <td>25.114275</td>\n",
       "      <td>55.139764</td>\n",
       "      <td>1729200</td>\n",
       "      <td>507</td>\n",
       "      <td>3410.65</td>\n",
       "      <td>0</td>\n",
       "      <td>1</td>\n",
       "      <td>2</td>\n",
       "    </tr>\n",
       "  </tbody>\n",
       "</table>\n",
       "</div>"
      ],
      "text/plain": [
       "           neighborhood   latitude  longitude    price  size_in_sqft  \\\n",
       "0         Palm Jumeirah  25.113208  55.138932  2700000          1079   \n",
       "1         Palm Jumeirah  25.106809  55.151201  2850000          1582   \n",
       "2  Jumeirah Lake Towers  25.063302  55.137728  1150000          1951   \n",
       "3       Culture Village  25.227295  55.341761  2850000          2020   \n",
       "4         Palm Jumeirah  25.114275  55.139764  1729200           507   \n",
       "\n",
       "   price_per_sqft  no_of_bedrooms  no_of_bathrooms  quality  \n",
       "0         2502.32               1                2        2  \n",
       "1         1801.52               2                2        2  \n",
       "2          589.44               3                5        2  \n",
       "3         1410.89               2                3        1  \n",
       "4         3410.65               0                1        2  "
      ]
     },
     "execution_count": 173,
     "metadata": {},
     "output_type": "execute_result"
    }
   ],
   "source": [
    "# Label encoding in quality\n",
    "label_encoder = preprocessing.LabelEncoder()\n",
    "df['quality']= label_encoder.fit_transform(df['quality'])\n",
    "df.head()"
   ]
  },
  {
   "cell_type": "code",
   "execution_count": 174,
   "metadata": {},
   "outputs": [],
   "source": [
    "# Label Enconding in Neighborhood\n",
    "label_encoder = preprocessing.LabelEncoder()\n",
    "df['neighborhood']= label_encoder.fit_transform(df['neighborhood'])"
   ]
  },
  {
   "cell_type": "code",
   "execution_count": 175,
   "metadata": {},
   "outputs": [
    {
     "data": {
      "text/plain": [
       "array([46, 36, 11, 15, 22,  9, 45,  3, 39,  6, 34, 16, 30, 10,  2, 12, 35,\n",
       "       33, 20, 51, 43, 13, 37,  7,  0, 23, 48, 49, 27, 25, 38, 42, 18,  8,\n",
       "       31, 28, 40, 50, 29,  1,  5, 17, 32, 21, 52, 44, 14, 47, 41, 26, 19,\n",
       "       53, 24,  4])"
      ]
     },
     "execution_count": 175,
     "metadata": {},
     "output_type": "execute_result"
    }
   ],
   "source": [
    "df['neighborhood'].unique()"
   ]
  },
  {
   "cell_type": "code",
   "execution_count": 176,
   "metadata": {},
   "outputs": [
    {
     "data": {
      "text/plain": [
       "count    1905.000000\n",
       "mean        0.511841\n",
       "std         0.249825\n",
       "min         0.000000\n",
       "25%         0.283019\n",
       "50%         0.415094\n",
       "75%         0.698113\n",
       "max         1.000000\n",
       "Name: neighborhood, dtype: float64"
      ]
     },
     "execution_count": 176,
     "metadata": {},
     "output_type": "execute_result"
    }
   ],
   "source": [
    "#Normalize Neighboorhood values\n",
    "min_max_scaler = preprocessing.MinMaxScaler(feature_range=(0,1))\n",
    "df[['neighborhood']] = min_max_scaler.fit_transform(df[['neighborhood']])\n",
    "df['neighborhood'].describe()"
   ]
  },
  {
   "cell_type": "code",
   "execution_count": 177,
   "metadata": {},
   "outputs": [
    {
     "data": {
      "text/plain": [
       "count    1905.000000\n",
       "mean        0.120992\n",
       "std         0.096045\n",
       "min         0.000000\n",
       "25%         0.058824\n",
       "50%         0.105257\n",
       "75%         0.151799\n",
       "max         1.000000\n",
       "Name: size_in_sqft, dtype: float64"
      ]
     },
     "execution_count": 177,
     "metadata": {},
     "output_type": "execute_result"
    }
   ],
   "source": [
    "#Normalize Size In Sqft values\n",
    "min_max_scaler = preprocessing.MinMaxScaler(feature_range=(0,1))\n",
    "df[['size_in_sqft']] = min_max_scaler.fit_transform(df[['size_in_sqft']])\n",
    "df['size_in_sqft'].describe()"
   ]
  },
  {
   "cell_type": "code",
   "execution_count": 178,
   "metadata": {},
   "outputs": [
    {
     "data": {
      "text/plain": [
       "count    1905.000000\n",
       "mean        0.217231\n",
       "std         0.150422\n",
       "min         0.000000\n",
       "25%         0.114548\n",
       "50%         0.181755\n",
       "75%         0.283670\n",
       "max         1.000000\n",
       "Name: price_per_sqft, dtype: float64"
      ]
     },
     "execution_count": 178,
     "metadata": {},
     "output_type": "execute_result"
    }
   ],
   "source": [
    "#Normalize Price Per Sqft values\n",
    "min_max_scaler = preprocessing.MinMaxScaler(feature_range=(0,1))\n",
    "df[['price_per_sqft']] = min_max_scaler.fit_transform(df[['price_per_sqft']])\n",
    "df['price_per_sqft'].describe()"
   ]
  },
  {
   "cell_type": "code",
   "execution_count": 179,
   "metadata": {},
   "outputs": [
    {
     "data": {
      "text/plain": [
       "count    1905.000000\n",
       "mean        0.358635\n",
       "std         0.189898\n",
       "min         0.000000\n",
       "25%         0.200000\n",
       "50%         0.400000\n",
       "75%         0.400000\n",
       "max         1.000000\n",
       "Name: no_of_bedrooms, dtype: float64"
      ]
     },
     "execution_count": 179,
     "metadata": {},
     "output_type": "execute_result"
    }
   ],
   "source": [
    "#Normalize Nr of Bedrooms values\n",
    "min_max_scaler = preprocessing.MinMaxScaler(feature_range=(0,1))\n",
    "df[['no_of_bedrooms']] = min_max_scaler.fit_transform(df[['no_of_bedrooms']])\n",
    "df['no_of_bedrooms'].describe()"
   ]
  },
  {
   "cell_type": "code",
   "execution_count": 180,
   "metadata": {},
   "outputs": [
    {
     "data": {
      "text/plain": [
       "count    1905.000000\n",
       "mean        0.302572\n",
       "std         0.212623\n",
       "min         0.000000\n",
       "25%         0.200000\n",
       "50%         0.200000\n",
       "75%         0.400000\n",
       "max         1.000000\n",
       "Name: no_of_bathrooms, dtype: float64"
      ]
     },
     "execution_count": 180,
     "metadata": {},
     "output_type": "execute_result"
    }
   ],
   "source": [
    "#Normalize Nr of Bathrooms values\n",
    "min_max_scaler = preprocessing.MinMaxScaler(feature_range=(0,1))\n",
    "df[['no_of_bathrooms']] = min_max_scaler.fit_transform(df[['no_of_bathrooms']])\n",
    "df['no_of_bathrooms'].describe()"
   ]
  },
  {
   "cell_type": "code",
   "execution_count": 181,
   "metadata": {},
   "outputs": [
    {
     "name": "stdout",
     "output_type": "stream",
     "text": [
      "Old Dimensions:  (1905, 9)\n",
      "New Dimensions:  (1777, 9)\n"
     ]
    }
   ],
   "source": [
    "# Calculate IQR (Inter Quartile Range)\n",
    "Q1 = np.percentile(df['price'], 25, interpolation = 'midpoint')\n",
    "Q3 = np.percentile(df['price'], 75, interpolation = 'midpoint')\n",
    "IQR = Q3 - Q1\n",
    "\n",
    "print(\"Old Dimensions: \", df.shape)\n",
    "\n",
    "# Define upper bound\n",
    "upper = np.where(df['price'] >= (Q3+1.5*IQR))\n",
    "# Define lower bound\n",
    "lower = np.where(df['price'] <= (Q1-1.5*IQR))\n",
    "\n",
    "#Remove outliers\n",
    "df.drop(upper[0], inplace = True)\n",
    "df.drop(lower[0], inplace = True)\n",
    "\n",
    "print(\"New Dimensions: \", df.shape)"
   ]
  },
  {
   "cell_type": "markdown",
   "metadata": {},
   "source": [
    "# Train/test data split"
   ]
  },
  {
   "cell_type": "code",
   "execution_count": 182,
   "metadata": {},
   "outputs": [],
   "source": [
    "x = df.drop(['price'],axis=1)\n",
    "y = df['price'].to_frame()"
   ]
  },
  {
   "cell_type": "code",
   "execution_count": 183,
   "metadata": {},
   "outputs": [],
   "source": [
    "x_train, x_test, y_train, y_test1 = train_test_split(x,y,test_size=0.25,random_state=RANDOM_SEED)"
   ]
  },
  {
   "cell_type": "code",
   "execution_count": 184,
   "metadata": {},
   "outputs": [
    {
     "data": {
      "text/plain": [
       "<seaborn.axisgrid.FacetGrid at 0x7f7c7c188128>"
      ]
     },
     "execution_count": 184,
     "metadata": {},
     "output_type": "execute_result"
    },
    {
     "data": {
      "image/png": "[encoded data removed]",
      "text/plain": [
       "<Figure size 420.875x360 with 1 Axes>"
      ]
     },
     "metadata": {
      "needs_background": "light"
     },
     "output_type": "display_data"
    }
   ],
   "source": [
    "sns.displot(y_train)"
   ]
  },
  {
   "cell_type": "code",
   "execution_count": 185,
   "metadata": {},
   "outputs": [
    {
     "data": {
      "text/plain": [
       "<seaborn.axisgrid.FacetGrid at 0x7f7c587161d0>"
      ]
     },
     "execution_count": 185,
     "metadata": {},
     "output_type": "execute_result"
    },
    {
     "data": {
      "image/png": "[encoded data removed]",
      "text/plain": [
       "<Figure size 420.875x360 with 1 Axes>"
      ]
     },
     "metadata": {
      "needs_background": "light"
     },
     "output_type": "display_data"
    }
   ],
   "source": [
    "sns.displot(y_test1)"
   ]
  },
  {
   "cell_type": "markdown",
   "metadata": {},
   "source": [
    "# Linear Regression"
   ]
  },
  {
   "cell_type": "code",
   "execution_count": 186,
   "metadata": {},
   "outputs": [],
   "source": [
    "lm = LinearRegression()\n",
    "lm.fit(x_train,y_train)\n",
    "predictionsLR = lm.predict(x_test)"
   ]
  },
  {
   "cell_type": "code",
   "execution_count": 187,
   "metadata": {},
   "outputs": [
    {
     "data": {
      "text/plain": [
       "<matplotlib.collections.PathCollection at 0x7f7d1f01eef0>"
      ]
     },
     "execution_count": 187,
     "metadata": {},
     "output_type": "execute_result"
    },
    {
     "data": {
      "image/png": "[encoded data removed]",
      "text/plain": [
       "<Figure size 432x288 with 1 Axes>"
      ]
     },
     "metadata": {
      "needs_background": "light"
     },
     "output_type": "display_data"
    }
   ],
   "source": [
    "plt.scatter(y_test1, predictionsLR)"
   ]
  },
  {
   "cell_type": "code",
   "execution_count": 188,
   "metadata": {},
   "outputs": [
    {
     "data": {
      "text/plain": [
       "<seaborn.axisgrid.FacetGrid at 0x7f7d1d244f98>"
      ]
     },
     "execution_count": 188,
     "metadata": {},
     "output_type": "execute_result"
    },
    {
     "data": {
      "image/png": "[encoded data removed]",
      "text/plain": [
       "<Figure size 420.875x360 with 1 Axes>"
      ]
     },
     "metadata": {
      "needs_background": "light"
     },
     "output_type": "display_data"
    }
   ],
   "source": [
    "sns.displot((y_test1-predictionsLR), bins=30)"
   ]
  },
  {
   "cell_type": "code",
   "execution_count": 189,
   "metadata": {},
   "outputs": [
    {
     "name": "stdout",
     "output_type": "stream",
     "text": [
      "                  Coefficient\n",
      "neighborhood    -3.909919e+04\n",
      "latitude         1.045014e+05\n",
      "longitude        1.339982e+05\n",
      "size_in_sqft     8.975833e+06\n",
      "price_per_sqft   5.029570e+06\n",
      "no_of_bedrooms   3.538656e+05\n",
      "no_of_bathrooms  1.482607e+05\n",
      "quality         -9.117520e+03\n"
     ]
    }
   ],
   "source": [
    "# Model Evaluation\n",
    "coeff_df = pd.DataFrame(lm.coef_[0], x.columns, columns=['Coefficient'])\n",
    "print(coeff_df)"
   ]
  },
  {
   "cell_type": "code",
   "execution_count": 190,
   "metadata": {},
   "outputs": [
    {
     "data": {
      "text/plain": [
       "178092.749069489"
      ]
     },
     "execution_count": 190,
     "metadata": {},
     "output_type": "execute_result"
    }
   ],
   "source": [
    "#MAE\n",
    "metrics.mean_absolute_error(y_test1,predictionsLR)\n"
   ]
  },
  {
   "cell_type": "code",
   "execution_count": null,
   "metadata": {},
   "outputs": [
    {
     "data": {
      "text/plain": [
       "62995077155.87196"
      ]
     },
     "execution_count": 191,
     "metadata": {},
     "output_type": "execute_result"
    }
   ],
   "source": [
    "#MSE\n",
    "metrics.mean_squared_error(y_test1, predictionsLR)"
   ]
  },
  {
   "cell_type": "code",
   "execution_count": null,
   "metadata": {},
   "outputs": [
    {
     "data": {
      "text/plain": [
       "250988.20122840826"
      ]
     },
     "execution_count": 192,
     "metadata": {},
     "output_type": "execute_result"
    }
   ],
   "source": [
    "#RMSE\n",
    "np.sqrt(metrics.mean_squared_error(y_test1, predictionsLR))"
   ]
  },
  {
   "attachments": {},
   "cell_type": "markdown",
   "metadata": {},
   "source": [
    "# Decision Trees (Regression)"
   ]
  },
  {
   "cell_type": "code",
   "execution_count": 193,
   "metadata": {},
   "outputs": [
    {
     "data": {
      "text/plain": [
       "DecisionTreeRegressor(random_state=2021)"
      ]
     },
     "execution_count": 193,
     "metadata": {},
     "output_type": "execute_result"
    }
   ],
   "source": [
    "dtr = DecisionTreeRegressor(random_state=RANDOM_SEED)\n",
    "dtr.fit(x_train, np.ravel(y_train))"
   ]
  },
  {
   "cell_type": "code",
   "execution_count": 194,
   "metadata": {},
   "outputs": [
    {
     "data": {
      "text/plain": [
       "array([2250000., 1825000., 1595000., 1200000., 1471888.,  660600.,\n",
       "       1540000., 2800000., 1900000., 1050000.,  815000., 3175000.,\n",
       "       1550000.,  680000., 2400000., 1991888.,  399000.,  600000.,\n",
       "        675000., 1254462., 1650000.,  610000., 2500000., 2200000.,\n",
       "        900000., 1425000., 1950000., 1050000., 3950000., 2110000.,\n",
       "       1350000., 2700000.,  620000.,  410000., 2400000., 3700000.,\n",
       "        360000., 3100000.,  443850.,  709000., 1286000., 2063888.,\n",
       "       3499000.,  970000., 1100000., 1175000., 1350000., 1770000.,\n",
       "        330000., 1200000.,  808255.,  656000., 2789900., 1400000.,\n",
       "       3200000.,  626999., 2250000.,  370000., 1599990.,  568801.,\n",
       "       1780888., 1690000.,  350000., 1170000., 1499998., 4000000.,\n",
       "       1737000., 3489900.,  930000., 2140000., 2974999., 1650000.,\n",
       "       2353146., 3600000., 2700000., 3175000.,  860000., 1722888.,\n",
       "       2800000., 3400000., 1540000., 2800000.,  617000.,  850000.,\n",
       "       1380888., 1785000.,  580000., 2100000., 1550000., 2950000.,\n",
       "       1425000., 1175000., 1700000.,  674000., 2299000.,  670000.,\n",
       "       1300000., 1254462., 2625000.,  720000., 2167888., 2250000.,\n",
       "       1190502., 1200000., 1299999.,  850000., 1600000.,  540000.,\n",
       "       2099950.,  935000., 1599999., 4000000., 1880000.,  914000.,\n",
       "       3000000.,  748888., 1100000., 1380888., 2050000., 1318000.,\n",
       "        920000., 1450000., 1700000., 1980000., 1850000., 2100000.,\n",
       "        900000.,  415000.,  620190.,  670000.,  600000., 2000000.,\n",
       "       3300000., 1525000., 1825000., 2974999., 1750000., 1005888.,\n",
       "       1000000., 1045000.,  999999., 1000000., 1700000., 1690000.,\n",
       "        620000.,  615000., 2789900., 1650000., 3100000., 1430000.,\n",
       "       1600000.,  900000., 1999999., 1288888., 1450000., 1275000.,\n",
       "       3800000.,  650000., 1650000., 2448000.,  699505., 2500000.,\n",
       "       2999999.,  620000., 2000000., 3489900.,  620000.,  795000.,\n",
       "       1490000.,  990000., 1599900., 2974999., 1390000.,  619501.,\n",
       "        480000., 2350000., 1442977.,  670000., 2950000.,  850000.,\n",
       "        420000.,  950000., 2850000.,  625000.,  840477.,  759000.,\n",
       "        399000., 1300000.,  695000.,  670728.,  840477.,  810000.,\n",
       "       1040000., 1150000., 1700000., 2167888., 1483888., 2100000.,\n",
       "       2400000., 3600000., 1100000., 1400000., 1500000.,  630504.,\n",
       "       1250000.,  950000.,  400888., 1550000.,  395000., 2099950.,\n",
       "       3863000.,  990876.,  610500.,  380000.,  429000., 1800000.,\n",
       "        699999.,  810000.,  410000., 1373000., 1131000., 2450000.,\n",
       "        991000.,  450000., 1349999., 2850000., 2400000., 1225000.,\n",
       "       1050888.,  600000.,  300000., 1275000., 1650000., 1425000.,\n",
       "       3750000., 1400000.,  420000., 1650000., 2050000., 1250000.,\n",
       "        599999., 2500000., 2600000., 1300000., 1200000.,  850000.,\n",
       "       2789900., 1795000., 1599900., 1700000., 1155000., 3200000.,\n",
       "        799000., 2300000., 1645000.,  400000., 1100000., 1350000.,\n",
       "        410000., 1021888., 3400000., 2950000., 1259999.,  840477.,\n",
       "        365000., 1600000.,  350000., 1100000., 2140000., 3990000.,\n",
       "       1400206.,  900000., 3800000., 1850000.,  385000.,  699505.,\n",
       "       1700000., 1100000., 1110888., 1010888.,  450000.,  590888.,\n",
       "        550000.,  709000.,  270000.,  400000.,  590000., 1230000.,\n",
       "       2099950., 2789900., 2587000.,  709000., 3200000., 1795000.,\n",
       "       1625000., 2850000., 1200000., 1600000., 2090000., 3600000.,\n",
       "       1300000.,  850000., 1590000.,  657903.,  795000., 1900000.,\n",
       "       2400000., 3750000., 1199999., 3450000.,  475000., 2100000.,\n",
       "        800000., 3200000., 1199999., 1850000., 1750000.,  599900.,\n",
       "        661615., 3950000.,  429000., 1550000., 1471888., 3400000.,\n",
       "       2040888., 2270000., 1300000., 1999950., 2150000.,  530000.,\n",
       "       1600000.,  950000.,  400000.,  600000., 1350000., 1250000.,\n",
       "       1170000., 1950000., 1575000., 2649999., 1650000., 2400000.,\n",
       "       3200000., 2789900.,  599999.,  850000., 2649999.,  850000.,\n",
       "       1800000.,  718000.,  230000., 2490000., 2299000.,  725000.,\n",
       "       1650000., 1795000., 2400000., 1150000., 2400000., 2400000.,\n",
       "       1380888., 1150000.,  400000., 1399000., 1750000.,  680000.,\n",
       "       1400000.,  940000., 1200000., 1259999., 2400000., 2750000.,\n",
       "       1930000.,  699505.,  970000., 2000000., 1599999., 1250000.,\n",
       "        360000., 1200000.,  838000., 1900000.,  410000., 1200000.,\n",
       "       3175000.,  780000., 2000000., 2700000., 1425000., 1175000.,\n",
       "        620502.,  899000.,  649411.,  838000., 1300000., 1500000.,\n",
       "       1800000., 1450000.,  600000., 1525000., 1400000., 1230000.,\n",
       "       2625000., 2950000., 1825000., 3200000.,  641700., 1750000.,\n",
       "       3950000., 1785000.,  900000.,  950000., 1900000., 1600000.,\n",
       "       2999999., 1550000., 2243000., 1349000.,  670000.,  460000.,\n",
       "       2120000., 2000000., 2050000., 3700000.,  654000., 1190500.,\n",
       "       2900000., 1525000., 1335000., 1000000., 1400000.,  670000.,\n",
       "        349000., 1525000., 1700000.,  475000.,  989888.,  500000.,\n",
       "       1754888., 1000000., 1650000., 3500000.,  990876., 2349990.,\n",
       "       1400000.])"
      ]
     },
     "execution_count": 194,
     "metadata": {},
     "output_type": "execute_result"
    }
   ],
   "source": [
    "predictionsDT = dtr.predict(x_test)\n",
    "predictionsDT"
   ]
  },
  {
   "cell_type": "code",
   "execution_count": 195,
   "metadata": {},
   "outputs": [
    {
     "data": {
      "text/plain": [
       "68293.60898876404"
      ]
     },
     "execution_count": 195,
     "metadata": {},
     "output_type": "execute_result"
    }
   ],
   "source": [
    "#MAE\n",
    "metrics.mean_absolute_error(y_test1,predictionsDT)\n"
   ]
  },
  {
   "cell_type": "code",
   "execution_count": 196,
   "metadata": {},
   "outputs": [
    {
     "data": {
      "text/plain": [
       "14619723784.026966"
      ]
     },
     "execution_count": 196,
     "metadata": {},
     "output_type": "execute_result"
    }
   ],
   "source": [
    "#MSE\n",
    "metrics.mean_squared_error(y_test1, predictionsDT, squared=True)"
   ]
  },
  {
   "cell_type": "code",
   "execution_count": 197,
   "metadata": {},
   "outputs": [
    {
     "data": {
      "text/plain": [
       "120912.04978837703"
      ]
     },
     "execution_count": 197,
     "metadata": {},
     "output_type": "execute_result"
    }
   ],
   "source": [
    "#RMSE\n",
    "metrics.mean_squared_error(y_test1, predictionsDT, squared=False)"
   ]
  },
  {
   "cell_type": "code",
   "execution_count": 198,
   "metadata": {},
   "outputs": [
    {
     "name": "stdout",
     "output_type": "stream",
     "text": [
      "[0.97906043 0.97759194 0.98372432 0.98236922 0.99048409 0.96578953\n",
      " 0.94419076 0.98575658 0.98946377 0.98908868]\n",
      "RESULT: 0.98 accuracy with standard deviation of 0.01\n"
     ]
    }
   ],
   "source": [
    "#Cross Validation\n",
    "scores = cross_val_score(dtr,x,y,cv=10)\n",
    "print(scores)\n",
    "print(\"RESULT: %0.2f accuracy with standard deviation of %0.2f\" % (scores.mean(), scores.std()))"
   ]
  },
  {
   "cell_type": "markdown",
   "metadata": {},
   "source": [
    "# MultiLayer Perceptron (MLP)"
   ]
  },
  {
   "cell_type": "code",
   "execution_count": 199,
   "metadata": {},
   "outputs": [],
   "source": [
    "#Scale the features between [0-1]\n",
    "scaler_x = MinMaxScaler(feature_range=(0,1)).fit(x)\n",
    "scaler_y = MinMaxScaler(feature_range=(0,1)).fit(y)\n",
    "x_scaled = pd.DataFrame(scaler_x.transform(x[x.columns]), columns=x.columns)\n",
    "y_scaled = pd.DataFrame(scaler_y.transform(y[y.columns]), columns=y.columns)"
   ]
  },
  {
   "cell_type": "code",
   "execution_count": 200,
   "metadata": {},
   "outputs": [
    {
     "data": {
      "text/html": [
       "<div>\n",
       "<style scoped>\n",
       "    .dataframe tbody tr th:only-of-type {\n",
       "        vertical-align: middle;\n",
       "    }\n",
       "\n",
       "    .dataframe tbody tr th {\n",
       "        vertical-align: top;\n",
       "    }\n",
       "\n",
       "    .dataframe thead th {\n",
       "        text-align: right;\n",
       "    }\n",
       "</style>\n",
       "<table border=\"1\" class=\"dataframe\">\n",
       "  <thead>\n",
       "    <tr style=\"text-align: right;\">\n",
       "      <th></th>\n",
       "      <th>neighborhood</th>\n",
       "      <th>latitude</th>\n",
       "      <th>longitude</th>\n",
       "      <th>size_in_sqft</th>\n",
       "      <th>price_per_sqft</th>\n",
       "      <th>no_of_bedrooms</th>\n",
       "      <th>no_of_bathrooms</th>\n",
       "      <th>quality</th>\n",
       "    </tr>\n",
       "  </thead>\n",
       "  <tbody>\n",
       "    <tr>\n",
       "      <th>0</th>\n",
       "      <td>0.867925</td>\n",
       "      <td>25.113208</td>\n",
       "      <td>55.138932</td>\n",
       "      <td>0.084572</td>\n",
       "      <td>0.481649</td>\n",
       "      <td>0.2</td>\n",
       "      <td>0.2</td>\n",
       "      <td>2</td>\n",
       "    </tr>\n",
       "    <tr>\n",
       "      <th>1</th>\n",
       "      <td>0.867925</td>\n",
       "      <td>25.106809</td>\n",
       "      <td>55.151201</td>\n",
       "      <td>0.138763</td>\n",
       "      <td>0.323954</td>\n",
       "      <td>0.4</td>\n",
       "      <td>0.2</td>\n",
       "      <td>2</td>\n",
       "    </tr>\n",
       "    <tr>\n",
       "      <th>2</th>\n",
       "      <td>0.679245</td>\n",
       "      <td>25.063302</td>\n",
       "      <td>55.137728</td>\n",
       "      <td>0.178518</td>\n",
       "      <td>0.051208</td>\n",
       "      <td>0.6</td>\n",
       "      <td>0.8</td>\n",
       "      <td>2</td>\n",
       "    </tr>\n",
       "    <tr>\n",
       "      <th>3</th>\n",
       "      <td>0.207547</td>\n",
       "      <td>25.227295</td>\n",
       "      <td>55.341761</td>\n",
       "      <td>0.185951</td>\n",
       "      <td>0.236053</td>\n",
       "      <td>0.4</td>\n",
       "      <td>0.4</td>\n",
       "      <td>1</td>\n",
       "    </tr>\n",
       "    <tr>\n",
       "      <th>4</th>\n",
       "      <td>0.867925</td>\n",
       "      <td>25.114275</td>\n",
       "      <td>55.139764</td>\n",
       "      <td>0.022948</td>\n",
       "      <td>0.686044</td>\n",
       "      <td>0.0</td>\n",
       "      <td>0.0</td>\n",
       "      <td>2</td>\n",
       "    </tr>\n",
       "  </tbody>\n",
       "</table>\n",
       "</div>"
      ],
      "text/plain": [
       "   neighborhood   latitude  longitude  size_in_sqft  price_per_sqft  \\\n",
       "0      0.867925  25.113208  55.138932      0.084572        0.481649   \n",
       "1      0.867925  25.106809  55.151201      0.138763        0.323954   \n",
       "2      0.679245  25.063302  55.137728      0.178518        0.051208   \n",
       "3      0.207547  25.227295  55.341761      0.185951        0.236053   \n",
       "4      0.867925  25.114275  55.139764      0.022948        0.686044   \n",
       "\n",
       "   no_of_bedrooms  no_of_bathrooms  quality  \n",
       "0             0.2              0.2        2  \n",
       "1             0.4              0.2        2  \n",
       "2             0.6              0.8        2  \n",
       "3             0.4              0.4        1  \n",
       "4             0.0              0.0        2  "
      ]
     },
     "execution_count": 200,
     "metadata": {},
     "output_type": "execute_result"
    }
   ],
   "source": [
    "x.head()"
   ]
  },
  {
   "cell_type": "code",
   "execution_count": 201,
   "metadata": {},
   "outputs": [
    {
     "data": {
      "text/html": [
       "<div>\n",
       "<style scoped>\n",
       "    .dataframe tbody tr th:only-of-type {\n",
       "        vertical-align: middle;\n",
       "    }\n",
       "\n",
       "    .dataframe tbody tr th {\n",
       "        vertical-align: top;\n",
       "    }\n",
       "\n",
       "    .dataframe thead th {\n",
       "        text-align: right;\n",
       "    }\n",
       "</style>\n",
       "<table border=\"1\" class=\"dataframe\">\n",
       "  <thead>\n",
       "    <tr style=\"text-align: right;\">\n",
       "      <th></th>\n",
       "      <th>neighborhood</th>\n",
       "      <th>latitude</th>\n",
       "      <th>longitude</th>\n",
       "      <th>size_in_sqft</th>\n",
       "      <th>price_per_sqft</th>\n",
       "      <th>no_of_bedrooms</th>\n",
       "      <th>no_of_bathrooms</th>\n",
       "      <th>quality</th>\n",
       "    </tr>\n",
       "  </thead>\n",
       "  <tbody>\n",
       "    <tr>\n",
       "      <th>0</th>\n",
       "      <td>0.867925</td>\n",
       "      <td>0.606470</td>\n",
       "      <td>0.186996</td>\n",
       "      <td>0.143694</td>\n",
       "      <td>0.573995</td>\n",
       "      <td>0.25</td>\n",
       "      <td>0.2</td>\n",
       "      <td>0.666667</td>\n",
       "    </tr>\n",
       "    <tr>\n",
       "      <th>1</th>\n",
       "      <td>0.867925</td>\n",
       "      <td>0.590772</td>\n",
       "      <td>0.219950</td>\n",
       "      <td>0.235768</td>\n",
       "      <td>0.386065</td>\n",
       "      <td>0.50</td>\n",
       "      <td>0.2</td>\n",
       "      <td>0.666667</td>\n",
       "    </tr>\n",
       "    <tr>\n",
       "      <th>2</th>\n",
       "      <td>0.679245</td>\n",
       "      <td>0.484041</td>\n",
       "      <td>0.183763</td>\n",
       "      <td>0.303313</td>\n",
       "      <td>0.061026</td>\n",
       "      <td>0.75</td>\n",
       "      <td>0.8</td>\n",
       "      <td>0.666667</td>\n",
       "    </tr>\n",
       "    <tr>\n",
       "      <th>3</th>\n",
       "      <td>0.207547</td>\n",
       "      <td>0.886348</td>\n",
       "      <td>0.731779</td>\n",
       "      <td>0.315944</td>\n",
       "      <td>0.281311</td>\n",
       "      <td>0.50</td>\n",
       "      <td>0.4</td>\n",
       "      <td>0.333333</td>\n",
       "    </tr>\n",
       "    <tr>\n",
       "      <th>4</th>\n",
       "      <td>0.867925</td>\n",
       "      <td>0.609088</td>\n",
       "      <td>0.189231</td>\n",
       "      <td>0.038990</td>\n",
       "      <td>0.817578</td>\n",
       "      <td>0.00</td>\n",
       "      <td>0.0</td>\n",
       "      <td>0.666667</td>\n",
       "    </tr>\n",
       "  </tbody>\n",
       "</table>\n",
       "</div>"
      ],
      "text/plain": [
       "   neighborhood  latitude  longitude  size_in_sqft  price_per_sqft  \\\n",
       "0      0.867925  0.606470   0.186996      0.143694        0.573995   \n",
       "1      0.867925  0.590772   0.219950      0.235768        0.386065   \n",
       "2      0.679245  0.484041   0.183763      0.303313        0.061026   \n",
       "3      0.207547  0.886348   0.731779      0.315944        0.281311   \n",
       "4      0.867925  0.609088   0.189231      0.038990        0.817578   \n",
       "\n",
       "   no_of_bedrooms  no_of_bathrooms   quality  \n",
       "0            0.25              0.2  0.666667  \n",
       "1            0.50              0.2  0.666667  \n",
       "2            0.75              0.8  0.666667  \n",
       "3            0.50              0.4  0.333333  \n",
       "4            0.00              0.0  0.666667  "
      ]
     },
     "execution_count": 201,
     "metadata": {},
     "output_type": "execute_result"
    }
   ],
   "source": [
    "x_scaled.head()"
   ]
  },
  {
   "cell_type": "code",
   "execution_count": 202,
   "metadata": {},
   "outputs": [],
   "source": [
    "x_train, x_test, y_train, y_test = train_test_split(x_scaled, y_scaled, test_size=0.2, random_state=RANDOM_SEED)"
   ]
  },
  {
   "cell_type": "code",
   "execution_count": 203,
   "metadata": {},
   "outputs": [],
   "source": [
    "#em vez do relu usar o softmax - sugestao da prof\n",
    "#modelo MLP com 7 camadas\n",
    "def build_model(activation='relu', learning_rate=0.01):\n",
    "    model=Sequential()\n",
    "    model.add(Dense(16,input_dim=8,activation=activation))\n",
    "    model.add(Dense(8,activation=activation))\n",
    "    model.add(Dense(4,activation=activation))\n",
    "    model.add(Dense(2,activation=activation))\n",
    "    model.add(Dense(1,activation='relu'))\n",
    "\n",
    "    model.compile(\n",
    "        loss='mae',\n",
    "        optimizer = tf.optimizers.Adam(learning_rate),\n",
    "        metrics = ['mae','mse'])\n",
    "    return model\n"
   ]
  },
  {
   "cell_type": "code",
   "execution_count": 204,
   "metadata": {},
   "outputs": [
    {
     "name": "stdout",
     "output_type": "stream",
     "text": [
      "Model: \"sequential_375\"\n",
      "_________________________________________________________________\n",
      "Layer (type)                 Output Shape              Param #   \n",
      "=================================================================\n",
      "dense_2309 (Dense)           (None, 16)                144       \n",
      "_________________________________________________________________\n",
      "dense_2310 (Dense)           (None, 8)                 136       \n",
      "_________________________________________________________________\n",
      "dense_2311 (Dense)           (None, 4)                 36        \n",
      "_________________________________________________________________\n",
      "dense_2312 (Dense)           (None, 2)                 10        \n",
      "_________________________________________________________________\n",
      "dense_2313 (Dense)           (None, 1)                 3         \n",
      "=================================================================\n",
      "Total params: 329\n",
      "Trainable params: 329\n",
      "Non-trainable params: 0\n",
      "_________________________________________________________________\n"
     ]
    }
   ],
   "source": [
    "model = build_model()\n",
    "model.summary()"
   ]
  },
  {
   "cell_type": "code",
   "execution_count": 205,
   "metadata": {},
   "outputs": [],
   "source": [
    "#encontrar o melhor MLP possivel\n",
    "TURNING_DICT = {\n",
    "    'activation': ['relu','sigmoid'],\n",
    "    'learning_rate':[0.01,0.001]\n",
    "}"
   ]
  },
  {
   "cell_type": "code",
   "execution_count": 206,
   "metadata": {},
   "outputs": [
    {
     "name": "stdout",
     "output_type": "stream",
     "text": [
      "Fitting 5 folds for each of 4 candidates, totalling 20 fits\n",
      "Epoch 1/20\n",
      "29/29 [==============================] - 1s 14ms/step - loss: 0.3295 - mae: 0.3295 - mse: 0.1528 - val_loss: 0.3201 - val_mae: 0.3201 - val_mse: 0.1413\n",
      "Epoch 2/20\n",
      "29/29 [==============================] - 0s 4ms/step - loss: 0.3295 - mae: 0.3295 - mse: 0.1528 - val_loss: 0.3201 - val_mae: 0.3201 - val_mse: 0.1413\n",
      "Epoch 3/20\n",
      "29/29 [==============================] - 0s 4ms/step - loss: 0.3295 - mae: 0.3295 - mse: 0.1528 - val_loss: 0.3201 - val_mae: 0.3201 - val_mse: 0.1413\n",
      "Epoch 4/20\n",
      "29/29 [==============================] - 0s 3ms/step - loss: 0.3295 - mae: 0.3295 - mse: 0.1528 - val_loss: 0.3201 - val_mae: 0.3201 - val_mse: 0.1413\n",
      "Epoch 5/20\n",
      "29/29 [==============================] - 0s 4ms/step - loss: 0.3295 - mae: 0.3295 - mse: 0.1528 - val_loss: 0.3201 - val_mae: 0.3201 - val_mse: 0.1413\n",
      "Epoch 6/20\n",
      "29/29 [==============================] - 0s 5ms/step - loss: 0.3295 - mae: 0.3295 - mse: 0.1528 - val_loss: 0.3201 - val_mae: 0.3201 - val_mse: 0.1413\n",
      "Epoch 7/20\n",
      "29/29 [==============================] - 0s 4ms/step - loss: 0.3295 - mae: 0.3295 - mse: 0.1528 - val_loss: 0.3201 - val_mae: 0.3201 - val_mse: 0.1413\n",
      "Epoch 8/20\n",
      "29/29 [==============================] - 0s 3ms/step - loss: 0.3295 - mae: 0.3295 - mse: 0.1528 - val_loss: 0.3201 - val_mae: 0.3201 - val_mse: 0.1413\n",
      "Epoch 9/20\n",
      "29/29 [==============================] - 0s 4ms/step - loss: 0.3295 - mae: 0.3295 - mse: 0.1528 - val_loss: 0.3201 - val_mae: 0.3201 - val_mse: 0.1413\n",
      "Epoch 10/20\n",
      "29/29 [==============================] - 0s 4ms/step - loss: 0.3295 - mae: 0.3295 - mse: 0.1528 - val_loss: 0.3201 - val_mae: 0.3201 - val_mse: 0.1413\n",
      "Epoch 11/20\n",
      "29/29 [==============================] - 0s 4ms/step - loss: 0.3295 - mae: 0.3295 - mse: 0.1528 - val_loss: 0.3201 - val_mae: 0.3201 - val_mse: 0.1413\n",
      "Epoch 12/20\n",
      "29/29 [==============================] - 0s 4ms/step - loss: 0.3295 - mae: 0.3295 - mse: 0.1528 - val_loss: 0.3201 - val_mae: 0.3201 - val_mse: 0.1413\n",
      "Epoch 13/20\n",
      "29/29 [==============================] - 0s 4ms/step - loss: 0.3295 - mae: 0.3295 - mse: 0.1528 - val_loss: 0.3201 - val_mae: 0.3201 - val_mse: 0.1413\n",
      "Epoch 14/20\n",
      "29/29 [==============================] - 0s 4ms/step - loss: 0.3295 - mae: 0.3295 - mse: 0.1528 - val_loss: 0.3201 - val_mae: 0.3201 - val_mse: 0.1413\n",
      "Epoch 15/20\n",
      "29/29 [==============================] - 0s 3ms/step - loss: 0.3295 - mae: 0.3295 - mse: 0.1528 - val_loss: 0.3201 - val_mae: 0.3201 - val_mse: 0.1413\n",
      "Epoch 16/20\n",
      "29/29 [==============================] - 0s 4ms/step - loss: 0.3295 - mae: 0.3295 - mse: 0.1528 - val_loss: 0.3201 - val_mae: 0.3201 - val_mse: 0.1413\n",
      "Epoch 17/20\n",
      "29/29 [==============================] - 0s 4ms/step - loss: 0.3295 - mae: 0.3295 - mse: 0.1528 - val_loss: 0.3201 - val_mae: 0.3201 - val_mse: 0.1413\n",
      "Epoch 18/20\n",
      "29/29 [==============================] - 0s 4ms/step - loss: 0.3295 - mae: 0.3295 - mse: 0.1528 - val_loss: 0.3201 - val_mae: 0.3201 - val_mse: 0.1413\n",
      "Epoch 19/20\n",
      "29/29 [==============================] - 0s 3ms/step - loss: 0.3295 - mae: 0.3295 - mse: 0.1528 - val_loss: 0.3201 - val_mae: 0.3201 - val_mse: 0.1413\n",
      "Epoch 20/20\n",
      "29/29 [==============================] - 0s 5ms/step - loss: 0.3295 - mae: 0.3295 - mse: 0.1528 - val_loss: 0.3201 - val_mae: 0.3201 - val_mse: 0.1413\n",
      "Epoch 1/20\n",
      "29/29 [==============================] - 1s 17ms/step - loss: 0.1441 - mae: 0.1441 - mse: 0.0408 - val_loss: 0.0821 - val_mae: 0.0821 - val_mse: 0.0113\n",
      "Epoch 2/20\n",
      "29/29 [==============================] - 0s 5ms/step - loss: 0.0780 - mae: 0.0780 - mse: 0.0101 - val_loss: 0.0539 - val_mae: 0.0539 - val_mse: 0.0061\n",
      "Epoch 3/20\n",
      "29/29 [==============================] - 0s 4ms/step - loss: 0.0531 - mae: 0.0531 - mse: 0.0051 - val_loss: 0.0420 - val_mae: 0.0420 - val_mse: 0.0034\n",
      "Epoch 4/20\n",
      "29/29 [==============================] - 0s 4ms/step - loss: 0.0490 - mae: 0.0490 - mse: 0.0042 - val_loss: 0.0450 - val_mae: 0.0450 - val_mse: 0.0036\n",
      "Epoch 5/20\n",
      "29/29 [==============================] - 0s 3ms/step - loss: 0.0408 - mae: 0.0408 - mse: 0.0029 - val_loss: 0.0395 - val_mae: 0.0395 - val_mse: 0.0036\n",
      "Epoch 6/20\n",
      "29/29 [==============================] - 0s 4ms/step - loss: 0.0401 - mae: 0.0401 - mse: 0.0029 - val_loss: 0.0479 - val_mae: 0.0479 - val_mse: 0.0042\n",
      "Epoch 7/20\n",
      "29/29 [==============================] - 0s 3ms/step - loss: 0.0357 - mae: 0.0357 - mse: 0.0024 - val_loss: 0.0383 - val_mae: 0.0383 - val_mse: 0.0029\n",
      "Epoch 8/20\n",
      "29/29 [==============================] - 0s 4ms/step - loss: 0.0437 - mae: 0.0437 - mse: 0.0031 - val_loss: 0.0539 - val_mae: 0.0539 - val_mse: 0.0047\n",
      "Epoch 9/20\n",
      "29/29 [==============================] - 0s 5ms/step - loss: 0.0345 - mae: 0.0345 - mse: 0.0022 - val_loss: 0.0492 - val_mae: 0.0492 - val_mse: 0.0046\n",
      "Epoch 10/20\n",
      "29/29 [==============================] - 0s 5ms/step - loss: 0.0310 - mae: 0.0310 - mse: 0.0018 - val_loss: 0.0326 - val_mae: 0.0326 - val_mse: 0.0024\n",
      "Epoch 11/20\n",
      "29/29 [==============================] - 0s 4ms/step - loss: 0.0329 - mae: 0.0329 - mse: 0.0018 - val_loss: 0.0221 - val_mae: 0.0221 - val_mse: 0.0018\n",
      "Epoch 12/20\n",
      "29/29 [==============================] - 0s 4ms/step - loss: 0.0244 - mae: 0.0244 - mse: 0.0012 - val_loss: 0.0278 - val_mae: 0.0278 - val_mse: 0.0025\n",
      "Epoch 13/20\n",
      "29/29 [==============================] - 0s 4ms/step - loss: 0.0358 - mae: 0.0358 - mse: 0.0022 - val_loss: 0.0326 - val_mae: 0.0326 - val_mse: 0.0022\n",
      "Epoch 14/20\n",
      "29/29 [==============================] - 0s 5ms/step - loss: 0.0232 - mae: 0.0232 - mse: 0.0010 - val_loss: 0.0212 - val_mae: 0.0212 - val_mse: 0.0019\n",
      "Epoch 15/20\n",
      "29/29 [==============================] - 0s 4ms/step - loss: 0.0251 - mae: 0.0251 - mse: 0.0012 - val_loss: 0.0206 - val_mae: 0.0206 - val_mse: 0.0015\n",
      "Epoch 16/20\n",
      "29/29 [==============================] - 0s 4ms/step - loss: 0.0276 - mae: 0.0276 - mse: 0.0013 - val_loss: 0.0184 - val_mae: 0.0184 - val_mse: 0.0016\n",
      "Epoch 17/20\n",
      "29/29 [==============================] - 0s 4ms/step - loss: 0.0212 - mae: 0.0212 - mse: 8.0828e-04 - val_loss: 0.0220 - val_mae: 0.0220 - val_mse: 0.0017\n",
      "Epoch 18/20\n",
      "29/29 [==============================] - 0s 4ms/step - loss: 0.0178 - mae: 0.0178 - mse: 6.1392e-04 - val_loss: 0.0177 - val_mae: 0.0177 - val_mse: 0.0014\n",
      "Epoch 19/20\n",
      "29/29 [==============================] - 0s 3ms/step - loss: 0.0181 - mae: 0.0181 - mse: 6.0743e-04 - val_loss: 0.0179 - val_mae: 0.0179 - val_mse: 0.0013\n",
      "Epoch 20/20\n",
      "29/29 [==============================] - 0s 4ms/step - loss: 0.0246 - mae: 0.0246 - mse: 0.0010 - val_loss: 0.0293 - val_mae: 0.0293 - val_mse: 0.0018\n",
      "Epoch 1/20\n",
      "29/29 [==============================] - 1s 10ms/step - loss: 0.1205 - mae: 0.1205 - mse: 0.0256 - val_loss: 0.1070 - val_mae: 0.1070 - val_mse: 0.0220\n",
      "Epoch 2/20\n",
      "29/29 [==============================] - 0s 4ms/step - loss: 0.0796 - mae: 0.0796 - mse: 0.0125 - val_loss: 0.0561 - val_mae: 0.0561 - val_mse: 0.0070\n",
      "Epoch 3/20\n",
      "29/29 [==============================] - 0s 4ms/step - loss: 0.0563 - mae: 0.0563 - mse: 0.0059 - val_loss: 0.0449 - val_mae: 0.0449 - val_mse: 0.0043\n",
      "Epoch 4/20\n",
      "29/29 [==============================] - 0s 4ms/step - loss: 0.0552 - mae: 0.0552 - mse: 0.0050 - val_loss: 0.0616 - val_mae: 0.0616 - val_mse: 0.0057\n",
      "Epoch 5/20\n",
      "29/29 [==============================] - 0s 4ms/step - loss: 0.0496 - mae: 0.0496 - mse: 0.0043 - val_loss: 0.0416 - val_mae: 0.0416 - val_mse: 0.0042\n",
      "Epoch 6/20\n",
      "29/29 [==============================] - 0s 4ms/step - loss: 0.0432 - mae: 0.0432 - mse: 0.0035 - val_loss: 0.0453 - val_mae: 0.0453 - val_mse: 0.0039\n",
      "Epoch 7/20\n",
      "29/29 [==============================] - 0s 4ms/step - loss: 0.0428 - mae: 0.0428 - mse: 0.0034 - val_loss: 0.0373 - val_mae: 0.0373 - val_mse: 0.0037\n",
      "Epoch 8/20\n",
      "29/29 [==============================] - 0s 5ms/step - loss: 0.0353 - mae: 0.0353 - mse: 0.0024 - val_loss: 0.0295 - val_mae: 0.0295 - val_mse: 0.0025\n",
      "Epoch 9/20\n",
      "29/29 [==============================] - 0s 4ms/step - loss: 0.0317 - mae: 0.0317 - mse: 0.0020 - val_loss: 0.0355 - val_mae: 0.0355 - val_mse: 0.0043\n",
      "Epoch 10/20\n",
      "29/29 [==============================] - 0s 4ms/step - loss: 0.0314 - mae: 0.0314 - mse: 0.0019 - val_loss: 0.0321 - val_mae: 0.0321 - val_mse: 0.0026\n",
      "Epoch 11/20\n",
      "29/29 [==============================] - 0s 3ms/step - loss: 0.0269 - mae: 0.0269 - mse: 0.0015 - val_loss: 0.0267 - val_mae: 0.0267 - val_mse: 0.0025\n",
      "Epoch 12/20\n",
      "29/29 [==============================] - 0s 4ms/step - loss: 0.0291 - mae: 0.0291 - mse: 0.0016 - val_loss: 0.0361 - val_mae: 0.0361 - val_mse: 0.0030\n",
      "Epoch 13/20\n",
      "29/29 [==============================] - 0s 4ms/step - loss: 0.0256 - mae: 0.0256 - mse: 0.0013 - val_loss: 0.0472 - val_mae: 0.0472 - val_mse: 0.0035\n",
      "Epoch 14/20\n",
      "29/29 [==============================] - 0s 4ms/step - loss: 0.0342 - mae: 0.0342 - mse: 0.0019 - val_loss: 0.0529 - val_mae: 0.0529 - val_mse: 0.0038\n",
      "Epoch 15/20\n",
      "29/29 [==============================] - 0s 4ms/step - loss: 0.0300 - mae: 0.0300 - mse: 0.0015 - val_loss: 0.0207 - val_mae: 0.0207 - val_mse: 0.0016\n",
      "Epoch 16/20\n",
      "29/29 [==============================] - 0s 4ms/step - loss: 0.0202 - mae: 0.0202 - mse: 7.5520e-04 - val_loss: 0.0201 - val_mae: 0.0201 - val_mse: 0.0015\n",
      "Epoch 17/20\n",
      "29/29 [==============================] - 0s 4ms/step - loss: 0.0241 - mae: 0.0241 - mse: 9.7393e-04 - val_loss: 0.0181 - val_mae: 0.0181 - val_mse: 0.0014\n",
      "Epoch 18/20\n",
      "29/29 [==============================] - 0s 4ms/step - loss: 0.0216 - mae: 0.0216 - mse: 8.3983e-04 - val_loss: 0.0186 - val_mae: 0.0186 - val_mse: 0.0012\n",
      "Epoch 19/20\n",
      "29/29 [==============================] - 0s 4ms/step - loss: 0.0170 - mae: 0.0170 - mse: 5.5157e-04 - val_loss: 0.0215 - val_mae: 0.0215 - val_mse: 0.0015\n",
      "Epoch 20/20\n",
      "29/29 [==============================] - 0s 5ms/step - loss: 0.0178 - mae: 0.0178 - mse: 6.1698e-04 - val_loss: 0.0260 - val_mae: 0.0260 - val_mse: 0.0015\n",
      "Epoch 1/20\n",
      "29/29 [==============================] - 1s 11ms/step - loss: 0.3325 - mae: 0.3325 - mse: 0.1574 - val_loss: 0.3178 - val_mae: 0.3178 - val_mse: 0.1475\n",
      "Epoch 2/20\n",
      "29/29 [==============================] - 0s 4ms/step - loss: 0.3325 - mae: 0.3325 - mse: 0.1574 - val_loss: 0.3178 - val_mae: 0.3178 - val_mse: 0.1475\n",
      "Epoch 3/20\n",
      "29/29 [==============================] - 0s 6ms/step - loss: 0.3325 - mae: 0.3325 - mse: 0.1574 - val_loss: 0.3178 - val_mae: 0.3178 - val_mse: 0.1475\n",
      "Epoch 4/20\n",
      "29/29 [==============================] - 0s 6ms/step - loss: 0.3325 - mae: 0.3325 - mse: 0.1574 - val_loss: 0.3178 - val_mae: 0.3178 - val_mse: 0.1475\n",
      "Epoch 5/20\n",
      "29/29 [==============================] - 0s 5ms/step - loss: 0.3325 - mae: 0.3325 - mse: 0.1574 - val_loss: 0.3178 - val_mae: 0.3178 - val_mse: 0.1475\n",
      "Epoch 6/20\n",
      "29/29 [==============================] - 0s 4ms/step - loss: 0.3325 - mae: 0.3325 - mse: 0.1574 - val_loss: 0.3178 - val_mae: 0.3178 - val_mse: 0.1475\n",
      "Epoch 7/20\n",
      "29/29 [==============================] - 0s 4ms/step - loss: 0.3325 - mae: 0.3325 - mse: 0.1574 - val_loss: 0.3178 - val_mae: 0.3178 - val_mse: 0.1475\n",
      "Epoch 8/20\n",
      "29/29 [==============================] - 0s 4ms/step - loss: 0.3325 - mae: 0.3325 - mse: 0.1574 - val_loss: 0.3178 - val_mae: 0.3178 - val_mse: 0.1475\n",
      "Epoch 9/20\n",
      "29/29 [==============================] - 0s 3ms/step - loss: 0.3325 - mae: 0.3325 - mse: 0.1574 - val_loss: 0.3178 - val_mae: 0.3178 - val_mse: 0.1475\n",
      "Epoch 10/20\n",
      "29/29 [==============================] - 0s 4ms/step - loss: 0.3325 - mae: 0.3325 - mse: 0.1574 - val_loss: 0.3178 - val_mae: 0.3178 - val_mse: 0.1475\n",
      "Epoch 11/20\n",
      "29/29 [==============================] - 0s 3ms/step - loss: 0.3325 - mae: 0.3325 - mse: 0.1574 - val_loss: 0.3178 - val_mae: 0.3178 - val_mse: 0.1475\n",
      "Epoch 12/20\n",
      "29/29 [==============================] - 0s 3ms/step - loss: 0.3325 - mae: 0.3325 - mse: 0.1574 - val_loss: 0.3178 - val_mae: 0.3178 - val_mse: 0.1475\n",
      "Epoch 13/20\n",
      "29/29 [==============================] - 0s 7ms/step - loss: 0.3325 - mae: 0.3325 - mse: 0.1574 - val_loss: 0.3178 - val_mae: 0.3178 - val_mse: 0.1475\n",
      "Epoch 14/20\n",
      "29/29 [==============================] - 0s 4ms/step - loss: 0.3325 - mae: 0.3325 - mse: 0.1574 - val_loss: 0.3178 - val_mae: 0.3178 - val_mse: 0.1475\n",
      "Epoch 15/20\n",
      "29/29 [==============================] - 0s 4ms/step - loss: 0.3325 - mae: 0.3325 - mse: 0.1574 - val_loss: 0.3178 - val_mae: 0.3178 - val_mse: 0.1475\n",
      "Epoch 16/20\n",
      "29/29 [==============================] - 0s 3ms/step - loss: 0.3325 - mae: 0.3325 - mse: 0.1574 - val_loss: 0.3178 - val_mae: 0.3178 - val_mse: 0.1475\n",
      "Epoch 17/20\n",
      "29/29 [==============================] - 0s 4ms/step - loss: 0.3325 - mae: 0.3325 - mse: 0.1574 - val_loss: 0.3178 - val_mae: 0.3178 - val_mse: 0.1475\n",
      "Epoch 18/20\n",
      "29/29 [==============================] - 0s 4ms/step - loss: 0.3325 - mae: 0.3325 - mse: 0.1574 - val_loss: 0.3178 - val_mae: 0.3178 - val_mse: 0.1475\n",
      "Epoch 19/20\n",
      "29/29 [==============================] - 0s 4ms/step - loss: 0.3325 - mae: 0.3325 - mse: 0.1574 - val_loss: 0.3178 - val_mae: 0.3178 - val_mse: 0.1475\n",
      "Epoch 20/20\n",
      "29/29 [==============================] - 0s 4ms/step - loss: 0.3325 - mae: 0.3325 - mse: 0.1574 - val_loss: 0.3178 - val_mae: 0.3178 - val_mse: 0.1475\n",
      "Epoch 1/20\n",
      "29/29 [==============================] - 1s 11ms/step - loss: 0.1532 - mae: 0.1532 - mse: 0.0399 - val_loss: 0.1168 - val_mae: 0.1168 - val_mse: 0.0253\n",
      "Epoch 2/20\n",
      "29/29 [==============================] - 0s 4ms/step - loss: 0.0928 - mae: 0.0928 - mse: 0.0163 - val_loss: 0.0649 - val_mae: 0.0649 - val_mse: 0.0089\n",
      "Epoch 3/20\n",
      "29/29 [==============================] - 0s 3ms/step - loss: 0.0635 - mae: 0.0635 - mse: 0.0076 - val_loss: 0.0449 - val_mae: 0.0449 - val_mse: 0.0046\n",
      "Epoch 4/20\n",
      "29/29 [==============================] - 0s 3ms/step - loss: 0.0524 - mae: 0.0524 - mse: 0.0054 - val_loss: 0.0398 - val_mae: 0.0398 - val_mse: 0.0036\n",
      "Epoch 5/20\n",
      "29/29 [==============================] - 0s 3ms/step - loss: 0.0425 - mae: 0.0425 - mse: 0.0037 - val_loss: 0.0350 - val_mae: 0.0350 - val_mse: 0.0029\n",
      "Epoch 6/20\n",
      "29/29 [==============================] - 0s 3ms/step - loss: 0.0361 - mae: 0.0361 - mse: 0.0029 - val_loss: 0.0460 - val_mae: 0.0460 - val_mse: 0.0033\n",
      "Epoch 7/20\n",
      "29/29 [==============================] - 0s 3ms/step - loss: 0.0376 - mae: 0.0376 - mse: 0.0027 - val_loss: 0.0477 - val_mae: 0.0477 - val_mse: 0.0040\n",
      "Epoch 8/20\n",
      "29/29 [==============================] - 0s 4ms/step - loss: 0.0360 - mae: 0.0360 - mse: 0.0025 - val_loss: 0.0250 - val_mae: 0.0250 - val_mse: 0.0015\n",
      "Epoch 9/20\n",
      "29/29 [==============================] - 0s 3ms/step - loss: 0.0330 - mae: 0.0330 - mse: 0.0019 - val_loss: 0.0389 - val_mae: 0.0389 - val_mse: 0.0024\n",
      "Epoch 10/20\n",
      "29/29 [==============================] - 0s 3ms/step - loss: 0.0255 - mae: 0.0255 - mse: 0.0013 - val_loss: 0.0298 - val_mae: 0.0298 - val_mse: 0.0014\n",
      "Epoch 11/20\n",
      "29/29 [==============================] - 0s 4ms/step - loss: 0.0269 - mae: 0.0269 - mse: 0.0014 - val_loss: 0.0173 - val_mae: 0.0173 - val_mse: 9.8490e-04\n",
      "Epoch 12/20\n",
      "29/29 [==============================] - 0s 4ms/step - loss: 0.0201 - mae: 0.0201 - mse: 9.0188e-04 - val_loss: 0.0185 - val_mae: 0.0185 - val_mse: 9.0035e-04\n",
      "Epoch 13/20\n",
      "29/29 [==============================] - 0s 3ms/step - loss: 0.0216 - mae: 0.0216 - mse: 9.2870e-04 - val_loss: 0.0178 - val_mae: 0.0178 - val_mse: 7.6570e-04\n",
      "Epoch 14/20\n",
      "29/29 [==============================] - 0s 3ms/step - loss: 0.0247 - mae: 0.0247 - mse: 0.0012 - val_loss: 0.0194 - val_mae: 0.0194 - val_mse: 0.0011\n",
      "Epoch 15/20\n",
      "29/29 [==============================] - 0s 4ms/step - loss: 0.0218 - mae: 0.0218 - mse: 9.3880e-04 - val_loss: 0.0276 - val_mae: 0.0276 - val_mse: 0.0012\n",
      "Epoch 16/20\n",
      "29/29 [==============================] - 0s 3ms/step - loss: 0.0217 - mae: 0.0217 - mse: 9.3432e-04 - val_loss: 0.0120 - val_mae: 0.0120 - val_mse: 5.2083e-04\n",
      "Epoch 17/20\n",
      "29/29 [==============================] - 0s 3ms/step - loss: 0.0184 - mae: 0.0184 - mse: 7.2289e-04 - val_loss: 0.0132 - val_mae: 0.0132 - val_mse: 4.4993e-04\n",
      "Epoch 18/20\n",
      "29/29 [==============================] - 0s 3ms/step - loss: 0.0166 - mae: 0.0166 - mse: 5.8846e-04 - val_loss: 0.0116 - val_mae: 0.0116 - val_mse: 4.3539e-04\n",
      "Epoch 19/20\n",
      "29/29 [==============================] - 0s 4ms/step - loss: 0.0150 - mae: 0.0150 - mse: 5.1219e-04 - val_loss: 0.0122 - val_mae: 0.0122 - val_mse: 4.6861e-04\n",
      "Epoch 20/20\n",
      "29/29 [==============================] - 0s 3ms/step - loss: 0.0185 - mae: 0.0185 - mse: 6.8998e-04 - val_loss: 0.0263 - val_mae: 0.0263 - val_mse: 0.0012\n",
      "Epoch 1/20\n",
      "29/29 [==============================] - 1s 10ms/step - loss: 0.1975 - mae: 0.1975 - mse: 0.0702 - val_loss: 0.1489 - val_mae: 0.1489 - val_mse: 0.0357\n",
      "Epoch 2/20\n",
      "29/29 [==============================] - 0s 3ms/step - loss: 0.1519 - mae: 0.1519 - mse: 0.0386 - val_loss: 0.1351 - val_mae: 0.1351 - val_mse: 0.0323\n",
      "Epoch 3/20\n",
      "29/29 [==============================] - 0s 4ms/step - loss: 0.1384 - mae: 0.1384 - mse: 0.0345 - val_loss: 0.1243 - val_mae: 0.1243 - val_mse: 0.0269\n",
      "Epoch 4/20\n",
      "29/29 [==============================] - 0s 4ms/step - loss: 0.1271 - mae: 0.1271 - mse: 0.0302 - val_loss: 0.1188 - val_mae: 0.1188 - val_mse: 0.0229\n",
      "Epoch 5/20\n",
      "29/29 [==============================] - 0s 3ms/step - loss: 0.1169 - mae: 0.1169 - mse: 0.0254 - val_loss: 0.0986 - val_mae: 0.0986 - val_mse: 0.0181\n",
      "Epoch 6/20\n",
      "29/29 [==============================] - 0s 3ms/step - loss: 0.0971 - mae: 0.0971 - mse: 0.0191 - val_loss: 0.0780 - val_mae: 0.0780 - val_mse: 0.0131\n",
      "Epoch 7/20\n",
      "29/29 [==============================] - 0s 4ms/step - loss: 0.0810 - mae: 0.0810 - mse: 0.0137 - val_loss: 0.0699 - val_mae: 0.0699 - val_mse: 0.0092\n",
      "Epoch 8/20\n",
      "29/29 [==============================] - 0s 4ms/step - loss: 0.0723 - mae: 0.0723 - mse: 0.0103 - val_loss: 0.0644 - val_mae: 0.0644 - val_mse: 0.0086\n",
      "Epoch 9/20\n",
      "29/29 [==============================] - 0s 3ms/step - loss: 0.0675 - mae: 0.0675 - mse: 0.0091 - val_loss: 0.0577 - val_mae: 0.0577 - val_mse: 0.0068\n",
      "Epoch 10/20\n",
      "29/29 [==============================] - 0s 3ms/step - loss: 0.0616 - mae: 0.0616 - mse: 0.0079 - val_loss: 0.0554 - val_mae: 0.0554 - val_mse: 0.0057\n",
      "Epoch 11/20\n",
      "29/29 [==============================] - 0s 3ms/step - loss: 0.0571 - mae: 0.0571 - mse: 0.0066 - val_loss: 0.0518 - val_mae: 0.0518 - val_mse: 0.0052\n",
      "Epoch 12/20\n",
      "29/29 [==============================] - 0s 3ms/step - loss: 0.0532 - mae: 0.0532 - mse: 0.0059 - val_loss: 0.0461 - val_mae: 0.0461 - val_mse: 0.0041\n",
      "Epoch 13/20\n",
      "29/29 [==============================] - 0s 4ms/step - loss: 0.0496 - mae: 0.0496 - mse: 0.0051 - val_loss: 0.0441 - val_mae: 0.0441 - val_mse: 0.0041\n",
      "Epoch 14/20\n",
      "29/29 [==============================] - 0s 3ms/step - loss: 0.0492 - mae: 0.0492 - mse: 0.0048 - val_loss: 0.0413 - val_mae: 0.0413 - val_mse: 0.0036\n",
      "Epoch 15/20\n",
      "29/29 [==============================] - 0s 3ms/step - loss: 0.0459 - mae: 0.0459 - mse: 0.0042 - val_loss: 0.0379 - val_mae: 0.0379 - val_mse: 0.0028\n",
      "Epoch 16/20\n",
      "29/29 [==============================] - 0s 4ms/step - loss: 0.0430 - mae: 0.0430 - mse: 0.0037 - val_loss: 0.0373 - val_mae: 0.0373 - val_mse: 0.0029\n",
      "Epoch 17/20\n",
      "29/29 [==============================] - 0s 4ms/step - loss: 0.0406 - mae: 0.0406 - mse: 0.0034 - val_loss: 0.0340 - val_mae: 0.0340 - val_mse: 0.0024\n",
      "Epoch 18/20\n",
      "29/29 [==============================] - 0s 4ms/step - loss: 0.0396 - mae: 0.0396 - mse: 0.0032 - val_loss: 0.0327 - val_mae: 0.0327 - val_mse: 0.0022\n",
      "Epoch 19/20\n",
      "29/29 [==============================] - 0s 5ms/step - loss: 0.0379 - mae: 0.0379 - mse: 0.0029 - val_loss: 0.0326 - val_mae: 0.0326 - val_mse: 0.0021\n",
      "Epoch 20/20\n",
      "29/29 [==============================] - 0s 3ms/step - loss: 0.0369 - mae: 0.0369 - mse: 0.0028 - val_loss: 0.0324 - val_mae: 0.0324 - val_mse: 0.0020\n",
      "Epoch 1/20\n",
      "29/29 [==============================] - 1s 13ms/step - loss: 0.3296 - mae: 0.3296 - mse: 0.1534 - val_loss: 0.3211 - val_mae: 0.3211 - val_mse: 0.1457\n",
      "Epoch 2/20\n",
      "29/29 [==============================] - 0s 4ms/step - loss: 0.3296 - mae: 0.3296 - mse: 0.1534 - val_loss: 0.3211 - val_mae: 0.3211 - val_mse: 0.1457\n",
      "Epoch 3/20\n",
      "29/29 [==============================] - 0s 3ms/step - loss: 0.3296 - mae: 0.3296 - mse: 0.1534 - val_loss: 0.3211 - val_mae: 0.3211 - val_mse: 0.1457\n",
      "Epoch 4/20\n",
      "29/29 [==============================] - 0s 4ms/step - loss: 0.3296 - mae: 0.3296 - mse: 0.1534 - val_loss: 0.3211 - val_mae: 0.3211 - val_mse: 0.1457\n",
      "Epoch 5/20\n",
      "29/29 [==============================] - 0s 4ms/step - loss: 0.3296 - mae: 0.3296 - mse: 0.1534 - val_loss: 0.3211 - val_mae: 0.3211 - val_mse: 0.1457\n",
      "Epoch 6/20\n",
      "29/29 [==============================] - 0s 7ms/step - loss: 0.3296 - mae: 0.3296 - mse: 0.1534 - val_loss: 0.3211 - val_mae: 0.3211 - val_mse: 0.1457\n",
      "Epoch 7/20\n",
      "29/29 [==============================] - 0s 4ms/step - loss: 0.3296 - mae: 0.3296 - mse: 0.1534 - val_loss: 0.3211 - val_mae: 0.3211 - val_mse: 0.1457\n",
      "Epoch 8/20\n",
      "29/29 [==============================] - 0s 4ms/step - loss: 0.3296 - mae: 0.3296 - mse: 0.1534 - val_loss: 0.3211 - val_mae: 0.3211 - val_mse: 0.1457\n",
      "Epoch 9/20\n",
      "29/29 [==============================] - 0s 3ms/step - loss: 0.3296 - mae: 0.3296 - mse: 0.1534 - val_loss: 0.3211 - val_mae: 0.3211 - val_mse: 0.1457\n",
      "Epoch 10/20\n",
      "29/29 [==============================] - 0s 4ms/step - loss: 0.3296 - mae: 0.3296 - mse: 0.1534 - val_loss: 0.3211 - val_mae: 0.3211 - val_mse: 0.1457\n",
      "Epoch 11/20\n",
      "29/29 [==============================] - 0s 3ms/step - loss: 0.3296 - mae: 0.3296 - mse: 0.1534 - val_loss: 0.3211 - val_mae: 0.3211 - val_mse: 0.1457\n",
      "Epoch 12/20\n",
      "29/29 [==============================] - 0s 3ms/step - loss: 0.3296 - mae: 0.3296 - mse: 0.1534 - val_loss: 0.3211 - val_mae: 0.3211 - val_mse: 0.1457\n",
      "Epoch 13/20\n",
      "29/29 [==============================] - 0s 4ms/step - loss: 0.3296 - mae: 0.3296 - mse: 0.1534 - val_loss: 0.3211 - val_mae: 0.3211 - val_mse: 0.1457\n",
      "Epoch 14/20\n",
      "29/29 [==============================] - 0s 3ms/step - loss: 0.3296 - mae: 0.3296 - mse: 0.1534 - val_loss: 0.3211 - val_mae: 0.3211 - val_mse: 0.1457\n",
      "Epoch 15/20\n",
      "29/29 [==============================] - 0s 4ms/step - loss: 0.3296 - mae: 0.3296 - mse: 0.1534 - val_loss: 0.3211 - val_mae: 0.3211 - val_mse: 0.1457\n",
      "Epoch 16/20\n",
      "29/29 [==============================] - 0s 3ms/step - loss: 0.3296 - mae: 0.3296 - mse: 0.1534 - val_loss: 0.3211 - val_mae: 0.3211 - val_mse: 0.1457\n",
      "Epoch 17/20\n",
      "29/29 [==============================] - 0s 3ms/step - loss: 0.3296 - mae: 0.3296 - mse: 0.1534 - val_loss: 0.3211 - val_mae: 0.3211 - val_mse: 0.1457\n",
      "Epoch 18/20\n",
      "29/29 [==============================] - 0s 3ms/step - loss: 0.3296 - mae: 0.3296 - mse: 0.1534 - val_loss: 0.3211 - val_mae: 0.3211 - val_mse: 0.1457\n",
      "Epoch 19/20\n",
      "29/29 [==============================] - 0s 3ms/step - loss: 0.3296 - mae: 0.3296 - mse: 0.1534 - val_loss: 0.3211 - val_mae: 0.3211 - val_mse: 0.1457\n",
      "Epoch 20/20\n",
      "29/29 [==============================] - 0s 3ms/step - loss: 0.3296 - mae: 0.3296 - mse: 0.1534 - val_loss: 0.3211 - val_mae: 0.3211 - val_mse: 0.1457\n",
      "Epoch 1/20\n",
      "29/29 [==============================] - 1s 10ms/step - loss: 0.3260 - mae: 0.3260 - mse: 0.1507 - val_loss: 0.3224 - val_mae: 0.3224 - val_mse: 0.1484\n",
      "Epoch 2/20\n",
      "29/29 [==============================] - 0s 4ms/step - loss: 0.3260 - mae: 0.3260 - mse: 0.1507 - val_loss: 0.3224 - val_mae: 0.3224 - val_mse: 0.1484\n",
      "Epoch 3/20\n",
      "29/29 [==============================] - 0s 4ms/step - loss: 0.3260 - mae: 0.3260 - mse: 0.1507 - val_loss: 0.3224 - val_mae: 0.3224 - val_mse: 0.1484\n",
      "Epoch 4/20\n",
      "29/29 [==============================] - 0s 4ms/step - loss: 0.3260 - mae: 0.3260 - mse: 0.1507 - val_loss: 0.3224 - val_mae: 0.3224 - val_mse: 0.1484\n",
      "Epoch 5/20\n",
      "29/29 [==============================] - 0s 3ms/step - loss: 0.3260 - mae: 0.3260 - mse: 0.1507 - val_loss: 0.3224 - val_mae: 0.3224 - val_mse: 0.1484\n",
      "Epoch 6/20\n",
      "29/29 [==============================] - 0s 4ms/step - loss: 0.3260 - mae: 0.3260 - mse: 0.1507 - val_loss: 0.3224 - val_mae: 0.3224 - val_mse: 0.1484\n",
      "Epoch 7/20\n",
      "29/29 [==============================] - 0s 4ms/step - loss: 0.3260 - mae: 0.3260 - mse: 0.1507 - val_loss: 0.3224 - val_mae: 0.3224 - val_mse: 0.1484\n",
      "Epoch 8/20\n",
      "29/29 [==============================] - 0s 4ms/step - loss: 0.3260 - mae: 0.3260 - mse: 0.1507 - val_loss: 0.3224 - val_mae: 0.3224 - val_mse: 0.1484\n",
      "Epoch 9/20\n",
      "29/29 [==============================] - 0s 4ms/step - loss: 0.3260 - mae: 0.3260 - mse: 0.1507 - val_loss: 0.3224 - val_mae: 0.3224 - val_mse: 0.1484\n",
      "Epoch 10/20\n",
      "29/29 [==============================] - 0s 4ms/step - loss: 0.3260 - mae: 0.3260 - mse: 0.1507 - val_loss: 0.3224 - val_mae: 0.3224 - val_mse: 0.1484\n",
      "Epoch 11/20\n",
      "29/29 [==============================] - 0s 4ms/step - loss: 0.3260 - mae: 0.3260 - mse: 0.1507 - val_loss: 0.3224 - val_mae: 0.3224 - val_mse: 0.1484\n",
      "Epoch 12/20\n",
      "29/29 [==============================] - 0s 4ms/step - loss: 0.3260 - mae: 0.3260 - mse: 0.1507 - val_loss: 0.3224 - val_mae: 0.3224 - val_mse: 0.1484\n",
      "Epoch 13/20\n",
      "29/29 [==============================] - 0s 5ms/step - loss: 0.3260 - mae: 0.3260 - mse: 0.1507 - val_loss: 0.3224 - val_mae: 0.3224 - val_mse: 0.1484\n",
      "Epoch 14/20\n",
      "29/29 [==============================] - 0s 5ms/step - loss: 0.3260 - mae: 0.3260 - mse: 0.1507 - val_loss: 0.3224 - val_mae: 0.3224 - val_mse: 0.1484\n",
      "Epoch 15/20\n",
      "29/29 [==============================] - 0s 4ms/step - loss: 0.3260 - mae: 0.3260 - mse: 0.1507 - val_loss: 0.3224 - val_mae: 0.3224 - val_mse: 0.1484\n",
      "Epoch 16/20\n",
      "29/29 [==============================] - 0s 4ms/step - loss: 0.3260 - mae: 0.3260 - mse: 0.1507 - val_loss: 0.3224 - val_mae: 0.3224 - val_mse: 0.1484\n",
      "Epoch 17/20\n",
      "29/29 [==============================] - 0s 4ms/step - loss: 0.3260 - mae: 0.3260 - mse: 0.1507 - val_loss: 0.3224 - val_mae: 0.3224 - val_mse: 0.1484\n",
      "Epoch 18/20\n",
      "29/29 [==============================] - 0s 4ms/step - loss: 0.3260 - mae: 0.3260 - mse: 0.1507 - val_loss: 0.3224 - val_mae: 0.3224 - val_mse: 0.1484\n",
      "Epoch 19/20\n",
      "29/29 [==============================] - 0s 4ms/step - loss: 0.3260 - mae: 0.3260 - mse: 0.1507 - val_loss: 0.3224 - val_mae: 0.3224 - val_mse: 0.1484\n",
      "Epoch 20/20\n",
      "29/29 [==============================] - 0s 4ms/step - loss: 0.3260 - mae: 0.3260 - mse: 0.1507 - val_loss: 0.3224 - val_mae: 0.3224 - val_mse: 0.1484\n",
      "Epoch 1/20\n",
      "29/29 [==============================] - 1s 11ms/step - loss: 0.2552 - mae: 0.2552 - mse: 0.1091 - val_loss: 0.1549 - val_mae: 0.1549 - val_mse: 0.0490\n",
      "Epoch 2/20\n",
      "29/29 [==============================] - 0s 4ms/step - loss: 0.1482 - mae: 0.1482 - mse: 0.0369 - val_loss: 0.1284 - val_mae: 0.1284 - val_mse: 0.0315\n",
      "Epoch 3/20\n",
      "29/29 [==============================] - 0s 4ms/step - loss: 0.1299 - mae: 0.1299 - mse: 0.0302 - val_loss: 0.1103 - val_mae: 0.1103 - val_mse: 0.0244\n",
      "Epoch 4/20\n",
      "29/29 [==============================] - 0s 4ms/step - loss: 0.1164 - mae: 0.1164 - mse: 0.0245 - val_loss: 0.0950 - val_mae: 0.0950 - val_mse: 0.0187\n",
      "Epoch 5/20\n",
      "29/29 [==============================] - 0s 4ms/step - loss: 0.1052 - mae: 0.1052 - mse: 0.0205 - val_loss: 0.0859 - val_mae: 0.0859 - val_mse: 0.0159\n",
      "Epoch 6/20\n",
      "29/29 [==============================] - 0s 4ms/step - loss: 0.0974 - mae: 0.0974 - mse: 0.0176 - val_loss: 0.0809 - val_mae: 0.0809 - val_mse: 0.0142\n",
      "Epoch 7/20\n",
      "29/29 [==============================] - 0s 4ms/step - loss: 0.0914 - mae: 0.0914 - mse: 0.0159 - val_loss: 0.0772 - val_mae: 0.0772 - val_mse: 0.0134\n",
      "Epoch 8/20\n",
      "29/29 [==============================] - 0s 4ms/step - loss: 0.0868 - mae: 0.0868 - mse: 0.0145 - val_loss: 0.0733 - val_mae: 0.0733 - val_mse: 0.0121\n",
      "Epoch 9/20\n",
      "29/29 [==============================] - 0s 4ms/step - loss: 0.0817 - mae: 0.0817 - mse: 0.0131 - val_loss: 0.0701 - val_mae: 0.0701 - val_mse: 0.0108\n",
      "Epoch 10/20\n",
      "29/29 [==============================] - 0s 4ms/step - loss: 0.0775 - mae: 0.0775 - mse: 0.0117 - val_loss: 0.0718 - val_mae: 0.0718 - val_mse: 0.0111\n",
      "Epoch 11/20\n",
      "29/29 [==============================] - 0s 4ms/step - loss: 0.0745 - mae: 0.0745 - mse: 0.0109 - val_loss: 0.0676 - val_mae: 0.0676 - val_mse: 0.0091\n",
      "Epoch 12/20\n",
      "29/29 [==============================] - 0s 4ms/step - loss: 0.0701 - mae: 0.0701 - mse: 0.0097 - val_loss: 0.0623 - val_mae: 0.0623 - val_mse: 0.0085\n",
      "Epoch 13/20\n",
      "29/29 [==============================] - 0s 4ms/step - loss: 0.0676 - mae: 0.0676 - mse: 0.0091 - val_loss: 0.0615 - val_mae: 0.0615 - val_mse: 0.0081\n",
      "Epoch 14/20\n",
      "29/29 [==============================] - 0s 4ms/step - loss: 0.0650 - mae: 0.0650 - mse: 0.0085 - val_loss: 0.0559 - val_mae: 0.0559 - val_mse: 0.0068\n",
      "Epoch 15/20\n",
      "29/29 [==============================] - 0s 4ms/step - loss: 0.0614 - mae: 0.0614 - mse: 0.0076 - val_loss: 0.0533 - val_mae: 0.0533 - val_mse: 0.0062\n",
      "Epoch 16/20\n",
      "29/29 [==============================] - 0s 5ms/step - loss: 0.0583 - mae: 0.0583 - mse: 0.0069 - val_loss: 0.0500 - val_mae: 0.0500 - val_mse: 0.0056\n",
      "Epoch 17/20\n",
      "29/29 [==============================] - 0s 5ms/step - loss: 0.0558 - mae: 0.0558 - mse: 0.0063 - val_loss: 0.0481 - val_mae: 0.0481 - val_mse: 0.0051\n",
      "Epoch 18/20\n",
      "29/29 [==============================] - 0s 6ms/step - loss: 0.0544 - mae: 0.0544 - mse: 0.0060 - val_loss: 0.0459 - val_mae: 0.0459 - val_mse: 0.0046\n",
      "Epoch 19/20\n",
      "29/29 [==============================] - 0s 5ms/step - loss: 0.0518 - mae: 0.0518 - mse: 0.0054 - val_loss: 0.0442 - val_mae: 0.0442 - val_mse: 0.0044\n",
      "Epoch 20/20\n",
      "29/29 [==============================] - 0s 4ms/step - loss: 0.0497 - mae: 0.0497 - mse: 0.0050 - val_loss: 0.0425 - val_mae: 0.0425 - val_mse: 0.0040\n",
      "Epoch 1/20\n",
      "29/29 [==============================] - 1s 10ms/step - loss: 0.3332 - mae: 0.3332 - mse: 0.1564 - val_loss: 0.3162 - val_mae: 0.3162 - val_mse: 0.1454\n",
      "Epoch 2/20\n",
      "29/29 [==============================] - 0s 4ms/step - loss: 0.3332 - mae: 0.3332 - mse: 0.1564 - val_loss: 0.3162 - val_mae: 0.3162 - val_mse: 0.1454\n",
      "Epoch 3/20\n",
      "29/29 [==============================] - 0s 4ms/step - loss: 0.3332 - mae: 0.3332 - mse: 0.1564 - val_loss: 0.3162 - val_mae: 0.3162 - val_mse: 0.1454\n",
      "Epoch 4/20\n",
      "29/29 [==============================] - 0s 4ms/step - loss: 0.3332 - mae: 0.3332 - mse: 0.1564 - val_loss: 0.3162 - val_mae: 0.3162 - val_mse: 0.1454\n",
      "Epoch 5/20\n",
      "29/29 [==============================] - 0s 4ms/step - loss: 0.3332 - mae: 0.3332 - mse: 0.1564 - val_loss: 0.3162 - val_mae: 0.3162 - val_mse: 0.1454\n",
      "Epoch 6/20\n",
      "29/29 [==============================] - 0s 4ms/step - loss: 0.3332 - mae: 0.3332 - mse: 0.1564 - val_loss: 0.3162 - val_mae: 0.3162 - val_mse: 0.1454\n",
      "Epoch 7/20\n",
      "29/29 [==============================] - 0s 4ms/step - loss: 0.3332 - mae: 0.3332 - mse: 0.1564 - val_loss: 0.3162 - val_mae: 0.3162 - val_mse: 0.1454\n",
      "Epoch 8/20\n",
      "29/29 [==============================] - 0s 4ms/step - loss: 0.3332 - mae: 0.3332 - mse: 0.1564 - val_loss: 0.3162 - val_mae: 0.3162 - val_mse: 0.1454\n",
      "Epoch 9/20\n",
      "29/29 [==============================] - 0s 6ms/step - loss: 0.3332 - mae: 0.3332 - mse: 0.1564 - val_loss: 0.3162 - val_mae: 0.3162 - val_mse: 0.1454\n",
      "Epoch 10/20\n",
      "29/29 [==============================] - 0s 6ms/step - loss: 0.3332 - mae: 0.3332 - mse: 0.1564 - val_loss: 0.3162 - val_mae: 0.3162 - val_mse: 0.1454\n",
      "Epoch 11/20\n",
      "29/29 [==============================] - 0s 6ms/step - loss: 0.3332 - mae: 0.3332 - mse: 0.1564 - val_loss: 0.3162 - val_mae: 0.3162 - val_mse: 0.1454\n",
      "Epoch 12/20\n",
      "29/29 [==============================] - 0s 7ms/step - loss: 0.3332 - mae: 0.3332 - mse: 0.1564 - val_loss: 0.3162 - val_mae: 0.3162 - val_mse: 0.1454\n",
      "Epoch 13/20\n",
      "29/29 [==============================] - 0s 6ms/step - loss: 0.3332 - mae: 0.3332 - mse: 0.1564 - val_loss: 0.3162 - val_mae: 0.3162 - val_mse: 0.1454\n",
      "Epoch 14/20\n",
      "29/29 [==============================] - 0s 5ms/step - loss: 0.3332 - mae: 0.3332 - mse: 0.1564 - val_loss: 0.3162 - val_mae: 0.3162 - val_mse: 0.1454\n",
      "Epoch 15/20\n",
      "29/29 [==============================] - 0s 4ms/step - loss: 0.3332 - mae: 0.3332 - mse: 0.1564 - val_loss: 0.3162 - val_mae: 0.3162 - val_mse: 0.1454\n",
      "Epoch 16/20\n",
      "29/29 [==============================] - 0s 4ms/step - loss: 0.3332 - mae: 0.3332 - mse: 0.1564 - val_loss: 0.3162 - val_mae: 0.3162 - val_mse: 0.1454\n",
      "Epoch 17/20\n",
      "29/29 [==============================] - 0s 4ms/step - loss: 0.3332 - mae: 0.3332 - mse: 0.1564 - val_loss: 0.3162 - val_mae: 0.3162 - val_mse: 0.1454\n",
      "Epoch 18/20\n",
      "29/29 [==============================] - 0s 6ms/step - loss: 0.3332 - mae: 0.3332 - mse: 0.1564 - val_loss: 0.3162 - val_mae: 0.3162 - val_mse: 0.1454\n",
      "Epoch 19/20\n",
      "29/29 [==============================] - 0s 7ms/step - loss: 0.3332 - mae: 0.3332 - mse: 0.1564 - val_loss: 0.3162 - val_mae: 0.3162 - val_mse: 0.1454\n",
      "Epoch 20/20\n",
      "29/29 [==============================] - 0s 6ms/step - loss: 0.3332 - mae: 0.3332 - mse: 0.1564 - val_loss: 0.3162 - val_mae: 0.3162 - val_mse: 0.1454\n",
      "Epoch 1/20\n",
      "29/29 [==============================] - 1s 12ms/step - loss: 0.3295 - mae: 0.3295 - mse: 0.1528 - val_loss: 0.3201 - val_mae: 0.3201 - val_mse: 0.1413\n",
      "Epoch 2/20\n",
      "29/29 [==============================] - 0s 6ms/step - loss: 0.3295 - mae: 0.3295 - mse: 0.1528 - val_loss: 0.3201 - val_mae: 0.3201 - val_mse: 0.1413\n",
      "Epoch 3/20\n",
      "29/29 [==============================] - 0s 5ms/step - loss: 0.3295 - mae: 0.3295 - mse: 0.1528 - val_loss: 0.3201 - val_mae: 0.3201 - val_mse: 0.1413\n",
      "Epoch 4/20\n",
      "29/29 [==============================] - 0s 4ms/step - loss: 0.3295 - mae: 0.3295 - mse: 0.1528 - val_loss: 0.3201 - val_mae: 0.3201 - val_mse: 0.1413\n",
      "Epoch 5/20\n",
      "29/29 [==============================] - 0s 4ms/step - loss: 0.3295 - mae: 0.3295 - mse: 0.1528 - val_loss: 0.3201 - val_mae: 0.3201 - val_mse: 0.1413\n",
      "Epoch 6/20\n",
      "29/29 [==============================] - 0s 4ms/step - loss: 0.3295 - mae: 0.3295 - mse: 0.1528 - val_loss: 0.3201 - val_mae: 0.3201 - val_mse: 0.1413\n",
      "Epoch 7/20\n",
      "29/29 [==============================] - 0s 4ms/step - loss: 0.3295 - mae: 0.3295 - mse: 0.1528 - val_loss: 0.3201 - val_mae: 0.3201 - val_mse: 0.1413\n",
      "Epoch 8/20\n",
      "29/29 [==============================] - 0s 4ms/step - loss: 0.3295 - mae: 0.3295 - mse: 0.1528 - val_loss: 0.3201 - val_mae: 0.3201 - val_mse: 0.1413\n",
      "Epoch 9/20\n",
      "29/29 [==============================] - 0s 4ms/step - loss: 0.3295 - mae: 0.3295 - mse: 0.1528 - val_loss: 0.3201 - val_mae: 0.3201 - val_mse: 0.1413\n",
      "Epoch 10/20\n",
      "29/29 [==============================] - 0s 4ms/step - loss: 0.3295 - mae: 0.3295 - mse: 0.1528 - val_loss: 0.3201 - val_mae: 0.3201 - val_mse: 0.1413\n",
      "Epoch 11/20\n",
      "29/29 [==============================] - 0s 4ms/step - loss: 0.3295 - mae: 0.3295 - mse: 0.1528 - val_loss: 0.3201 - val_mae: 0.3201 - val_mse: 0.1413\n",
      "Epoch 12/20\n",
      "29/29 [==============================] - 0s 4ms/step - loss: 0.3295 - mae: 0.3295 - mse: 0.1528 - val_loss: 0.3201 - val_mae: 0.3201 - val_mse: 0.1413\n",
      "Epoch 13/20\n",
      "29/29 [==============================] - 0s 4ms/step - loss: 0.3295 - mae: 0.3295 - mse: 0.1528 - val_loss: 0.3201 - val_mae: 0.3201 - val_mse: 0.1413\n",
      "Epoch 14/20\n",
      "29/29 [==============================] - 0s 4ms/step - loss: 0.3295 - mae: 0.3295 - mse: 0.1528 - val_loss: 0.3201 - val_mae: 0.3201 - val_mse: 0.1413\n",
      "Epoch 15/20\n",
      "29/29 [==============================] - 0s 4ms/step - loss: 0.3295 - mae: 0.3295 - mse: 0.1528 - val_loss: 0.3201 - val_mae: 0.3201 - val_mse: 0.1413\n",
      "Epoch 16/20\n",
      "29/29 [==============================] - 0s 4ms/step - loss: 0.3295 - mae: 0.3295 - mse: 0.1528 - val_loss: 0.3201 - val_mae: 0.3201 - val_mse: 0.1413\n",
      "Epoch 17/20\n",
      "29/29 [==============================] - 0s 4ms/step - loss: 0.3295 - mae: 0.3295 - mse: 0.1528 - val_loss: 0.3201 - val_mae: 0.3201 - val_mse: 0.1413\n",
      "Epoch 18/20\n",
      "29/29 [==============================] - 0s 6ms/step - loss: 0.3295 - mae: 0.3295 - mse: 0.1528 - val_loss: 0.3201 - val_mae: 0.3201 - val_mse: 0.1413\n",
      "Epoch 19/20\n",
      "29/29 [==============================] - 0s 5ms/step - loss: 0.3295 - mae: 0.3295 - mse: 0.1528 - val_loss: 0.3201 - val_mae: 0.3201 - val_mse: 0.1413\n",
      "Epoch 20/20\n",
      "29/29 [==============================] - 0s 4ms/step - loss: 0.3295 - mae: 0.3295 - mse: 0.1528 - val_loss: 0.3201 - val_mae: 0.3201 - val_mse: 0.1413\n",
      "Epoch 1/20\n",
      "29/29 [==============================] - 1s 11ms/step - loss: 0.3296 - mae: 0.3296 - mse: 0.1534 - val_loss: 0.3211 - val_mae: 0.3211 - val_mse: 0.1457\n",
      "Epoch 2/20\n",
      "29/29 [==============================] - 0s 4ms/step - loss: 0.3296 - mae: 0.3296 - mse: 0.1534 - val_loss: 0.3211 - val_mae: 0.3211 - val_mse: 0.1457\n",
      "Epoch 3/20\n",
      "29/29 [==============================] - 0s 4ms/step - loss: 0.3296 - mae: 0.3296 - mse: 0.1534 - val_loss: 0.3211 - val_mae: 0.3211 - val_mse: 0.1457\n",
      "Epoch 4/20\n",
      "29/29 [==============================] - 0s 5ms/step - loss: 0.3296 - mae: 0.3296 - mse: 0.1534 - val_loss: 0.3211 - val_mae: 0.3211 - val_mse: 0.1457\n",
      "Epoch 5/20\n",
      "29/29 [==============================] - 0s 4ms/step - loss: 0.3296 - mae: 0.3296 - mse: 0.1534 - val_loss: 0.3211 - val_mae: 0.3211 - val_mse: 0.1457\n",
      "Epoch 6/20\n",
      "29/29 [==============================] - 0s 4ms/step - loss: 0.3296 - mae: 0.3296 - mse: 0.1534 - val_loss: 0.3211 - val_mae: 0.3211 - val_mse: 0.1457\n",
      "Epoch 7/20\n",
      "29/29 [==============================] - 0s 4ms/step - loss: 0.3296 - mae: 0.3296 - mse: 0.1534 - val_loss: 0.3211 - val_mae: 0.3211 - val_mse: 0.1457\n",
      "Epoch 8/20\n",
      "29/29 [==============================] - 0s 4ms/step - loss: 0.3296 - mae: 0.3296 - mse: 0.1534 - val_loss: 0.3211 - val_mae: 0.3211 - val_mse: 0.1457\n",
      "Epoch 9/20\n",
      "29/29 [==============================] - 0s 4ms/step - loss: 0.3296 - mae: 0.3296 - mse: 0.1534 - val_loss: 0.3211 - val_mae: 0.3211 - val_mse: 0.1457\n",
      "Epoch 10/20\n",
      "29/29 [==============================] - 0s 4ms/step - loss: 0.3296 - mae: 0.3296 - mse: 0.1534 - val_loss: 0.3211 - val_mae: 0.3211 - val_mse: 0.1457\n",
      "Epoch 11/20\n",
      "29/29 [==============================] - 0s 4ms/step - loss: 0.3296 - mae: 0.3296 - mse: 0.1534 - val_loss: 0.3211 - val_mae: 0.3211 - val_mse: 0.1457\n",
      "Epoch 12/20\n",
      "29/29 [==============================] - 0s 4ms/step - loss: 0.3296 - mae: 0.3296 - mse: 0.1534 - val_loss: 0.3211 - val_mae: 0.3211 - val_mse: 0.1457\n",
      "Epoch 13/20\n",
      "29/29 [==============================] - 0s 4ms/step - loss: 0.3296 - mae: 0.3296 - mse: 0.1534 - val_loss: 0.3211 - val_mae: 0.3211 - val_mse: 0.1457\n",
      "Epoch 14/20\n",
      "29/29 [==============================] - 0s 5ms/step - loss: 0.3296 - mae: 0.3296 - mse: 0.1534 - val_loss: 0.3211 - val_mae: 0.3211 - val_mse: 0.1457\n",
      "Epoch 15/20\n",
      "29/29 [==============================] - 0s 6ms/step - loss: 0.3296 - mae: 0.3296 - mse: 0.1534 - val_loss: 0.3211 - val_mae: 0.3211 - val_mse: 0.1457\n",
      "Epoch 16/20\n",
      "29/29 [==============================] - 0s 5ms/step - loss: 0.3296 - mae: 0.3296 - mse: 0.1534 - val_loss: 0.3211 - val_mae: 0.3211 - val_mse: 0.1457\n",
      "Epoch 17/20\n",
      "29/29 [==============================] - 0s 5ms/step - loss: 0.3296 - mae: 0.3296 - mse: 0.1534 - val_loss: 0.3211 - val_mae: 0.3211 - val_mse: 0.1457\n",
      "Epoch 18/20\n",
      "29/29 [==============================] - 0s 5ms/step - loss: 0.3296 - mae: 0.3296 - mse: 0.1534 - val_loss: 0.3211 - val_mae: 0.3211 - val_mse: 0.1457\n",
      "Epoch 19/20\n",
      "29/29 [==============================] - 0s 5ms/step - loss: 0.3296 - mae: 0.3296 - mse: 0.1534 - val_loss: 0.3211 - val_mae: 0.3211 - val_mse: 0.1457\n",
      "Epoch 20/20\n",
      "29/29 [==============================] - 0s 6ms/step - loss: 0.3296 - mae: 0.3296 - mse: 0.1534 - val_loss: 0.3211 - val_mae: 0.3211 - val_mse: 0.1457\n",
      "Epoch 1/20\n",
      "29/29 [==============================] - 1s 17ms/step - loss: 0.3260 - mae: 0.3260 - mse: 0.1507 - val_loss: 0.3224 - val_mae: 0.3224 - val_mse: 0.1484\n",
      "Epoch 2/20\n",
      "29/29 [==============================] - 0s 7ms/step - loss: 0.3260 - mae: 0.3260 - mse: 0.1507 - val_loss: 0.3224 - val_mae: 0.3224 - val_mse: 0.1484\n",
      "Epoch 3/20\n",
      "29/29 [==============================] - 0s 4ms/step - loss: 0.3260 - mae: 0.3260 - mse: 0.1507 - val_loss: 0.3224 - val_mae: 0.3224 - val_mse: 0.1484\n",
      "Epoch 4/20\n",
      "29/29 [==============================] - 0s 4ms/step - loss: 0.3260 - mae: 0.3260 - mse: 0.1507 - val_loss: 0.3224 - val_mae: 0.3224 - val_mse: 0.1484\n",
      "Epoch 5/20\n",
      "29/29 [==============================] - 0s 4ms/step - loss: 0.3260 - mae: 0.3260 - mse: 0.1507 - val_loss: 0.3224 - val_mae: 0.3224 - val_mse: 0.1484\n",
      "Epoch 6/20\n",
      "29/29 [==============================] - 0s 7ms/step - loss: 0.3260 - mae: 0.3260 - mse: 0.1507 - val_loss: 0.3224 - val_mae: 0.3224 - val_mse: 0.1484\n",
      "Epoch 7/20\n",
      "29/29 [==============================] - 0s 4ms/step - loss: 0.3260 - mae: 0.3260 - mse: 0.1507 - val_loss: 0.3224 - val_mae: 0.3224 - val_mse: 0.1484\n",
      "Epoch 8/20\n",
      "29/29 [==============================] - 0s 4ms/step - loss: 0.3260 - mae: 0.3260 - mse: 0.1507 - val_loss: 0.3224 - val_mae: 0.3224 - val_mse: 0.1484\n",
      "Epoch 9/20\n",
      "29/29 [==============================] - 0s 4ms/step - loss: 0.3260 - mae: 0.3260 - mse: 0.1507 - val_loss: 0.3224 - val_mae: 0.3224 - val_mse: 0.1484\n",
      "Epoch 10/20\n",
      "29/29 [==============================] - 0s 5ms/step - loss: 0.3260 - mae: 0.3260 - mse: 0.1507 - val_loss: 0.3224 - val_mae: 0.3224 - val_mse: 0.1484\n",
      "Epoch 11/20\n",
      "29/29 [==============================] - 0s 4ms/step - loss: 0.3260 - mae: 0.3260 - mse: 0.1507 - val_loss: 0.3224 - val_mae: 0.3224 - val_mse: 0.1484\n",
      "Epoch 12/20\n",
      "29/29 [==============================] - 0s 4ms/step - loss: 0.3260 - mae: 0.3260 - mse: 0.1507 - val_loss: 0.3224 - val_mae: 0.3224 - val_mse: 0.1484\n",
      "Epoch 13/20\n",
      "29/29 [==============================] - 0s 4ms/step - loss: 0.3260 - mae: 0.3260 - mse: 0.1507 - val_loss: 0.3224 - val_mae: 0.3224 - val_mse: 0.1484\n",
      "Epoch 14/20\n",
      "29/29 [==============================] - 0s 4ms/step - loss: 0.3260 - mae: 0.3260 - mse: 0.1507 - val_loss: 0.3224 - val_mae: 0.3224 - val_mse: 0.1484\n",
      "Epoch 15/20\n",
      "29/29 [==============================] - 0s 4ms/step - loss: 0.3260 - mae: 0.3260 - mse: 0.1507 - val_loss: 0.3224 - val_mae: 0.3224 - val_mse: 0.1484\n",
      "Epoch 16/20\n",
      "29/29 [==============================] - 0s 4ms/step - loss: 0.3260 - mae: 0.3260 - mse: 0.1507 - val_loss: 0.3224 - val_mae: 0.3224 - val_mse: 0.1484\n",
      "Epoch 17/20\n",
      "29/29 [==============================] - 0s 4ms/step - loss: 0.3260 - mae: 0.3260 - mse: 0.1507 - val_loss: 0.3224 - val_mae: 0.3224 - val_mse: 0.1484\n",
      "Epoch 18/20\n",
      "29/29 [==============================] - 0s 5ms/step - loss: 0.3260 - mae: 0.3260 - mse: 0.1507 - val_loss: 0.3224 - val_mae: 0.3224 - val_mse: 0.1484\n",
      "Epoch 19/20\n",
      "29/29 [==============================] - 0s 6ms/step - loss: 0.3260 - mae: 0.3260 - mse: 0.1507 - val_loss: 0.3224 - val_mae: 0.3224 - val_mse: 0.1484\n",
      "Epoch 20/20\n",
      "29/29 [==============================] - 0s 5ms/step - loss: 0.3260 - mae: 0.3260 - mse: 0.1507 - val_loss: 0.3224 - val_mae: 0.3224 - val_mse: 0.1484\n",
      "Epoch 1/20\n",
      "29/29 [==============================] - 1s 11ms/step - loss: 0.3325 - mae: 0.3325 - mse: 0.1574 - val_loss: 0.3178 - val_mae: 0.3178 - val_mse: 0.1475\n",
      "Epoch 2/20\n",
      "29/29 [==============================] - 0s 4ms/step - loss: 0.3325 - mae: 0.3325 - mse: 0.1574 - val_loss: 0.3178 - val_mae: 0.3178 - val_mse: 0.1475\n",
      "Epoch 3/20\n",
      "29/29 [==============================] - 0s 4ms/step - loss: 0.3325 - mae: 0.3325 - mse: 0.1574 - val_loss: 0.3178 - val_mae: 0.3178 - val_mse: 0.1475\n",
      "Epoch 4/20\n",
      "29/29 [==============================] - 0s 4ms/step - loss: 0.3325 - mae: 0.3325 - mse: 0.1574 - val_loss: 0.3178 - val_mae: 0.3178 - val_mse: 0.1475\n",
      "Epoch 5/20\n",
      "29/29 [==============================] - 0s 5ms/step - loss: 0.3325 - mae: 0.3325 - mse: 0.1574 - val_loss: 0.3178 - val_mae: 0.3178 - val_mse: 0.1475\n",
      "Epoch 6/20\n",
      "29/29 [==============================] - 0s 4ms/step - loss: 0.3325 - mae: 0.3325 - mse: 0.1574 - val_loss: 0.3178 - val_mae: 0.3178 - val_mse: 0.1475\n",
      "Epoch 7/20\n",
      "29/29 [==============================] - 0s 4ms/step - loss: 0.3325 - mae: 0.3325 - mse: 0.1574 - val_loss: 0.3178 - val_mae: 0.3178 - val_mse: 0.1475\n",
      "Epoch 8/20\n",
      "29/29 [==============================] - 0s 4ms/step - loss: 0.3325 - mae: 0.3325 - mse: 0.1574 - val_loss: 0.3178 - val_mae: 0.3178 - val_mse: 0.1475\n",
      "Epoch 9/20\n",
      "29/29 [==============================] - 0s 4ms/step - loss: 0.3325 - mae: 0.3325 - mse: 0.1574 - val_loss: 0.3178 - val_mae: 0.3178 - val_mse: 0.1475\n",
      "Epoch 10/20\n",
      "29/29 [==============================] - 0s 4ms/step - loss: 0.3325 - mae: 0.3325 - mse: 0.1574 - val_loss: 0.3178 - val_mae: 0.3178 - val_mse: 0.1475\n",
      "Epoch 11/20\n",
      "29/29 [==============================] - 0s 4ms/step - loss: 0.3325 - mae: 0.3325 - mse: 0.1574 - val_loss: 0.3178 - val_mae: 0.3178 - val_mse: 0.1475\n",
      "Epoch 12/20\n",
      "29/29 [==============================] - 0s 6ms/step - loss: 0.3325 - mae: 0.3325 - mse: 0.1574 - val_loss: 0.3178 - val_mae: 0.3178 - val_mse: 0.1475\n",
      "Epoch 13/20\n",
      "29/29 [==============================] - 0s 4ms/step - loss: 0.3325 - mae: 0.3325 - mse: 0.1574 - val_loss: 0.3178 - val_mae: 0.3178 - val_mse: 0.1475\n",
      "Epoch 14/20\n",
      "29/29 [==============================] - 0s 4ms/step - loss: 0.3325 - mae: 0.3325 - mse: 0.1574 - val_loss: 0.3178 - val_mae: 0.3178 - val_mse: 0.1475\n",
      "Epoch 15/20\n",
      "29/29 [==============================] - 0s 4ms/step - loss: 0.3325 - mae: 0.3325 - mse: 0.1574 - val_loss: 0.3178 - val_mae: 0.3178 - val_mse: 0.1475\n",
      "Epoch 16/20\n",
      "29/29 [==============================] - 0s 4ms/step - loss: 0.3325 - mae: 0.3325 - mse: 0.1574 - val_loss: 0.3178 - val_mae: 0.3178 - val_mse: 0.1475\n",
      "Epoch 17/20\n",
      "29/29 [==============================] - 0s 4ms/step - loss: 0.3325 - mae: 0.3325 - mse: 0.1574 - val_loss: 0.3178 - val_mae: 0.3178 - val_mse: 0.1475\n",
      "Epoch 18/20\n",
      "29/29 [==============================] - 0s 4ms/step - loss: 0.3325 - mae: 0.3325 - mse: 0.1574 - val_loss: 0.3178 - val_mae: 0.3178 - val_mse: 0.1475\n",
      "Epoch 19/20\n",
      "29/29 [==============================] - 0s 4ms/step - loss: 0.3325 - mae: 0.3325 - mse: 0.1574 - val_loss: 0.3178 - val_mae: 0.3178 - val_mse: 0.1475\n",
      "Epoch 20/20\n",
      "29/29 [==============================] - 0s 4ms/step - loss: 0.3325 - mae: 0.3325 - mse: 0.1574 - val_loss: 0.3178 - val_mae: 0.3178 - val_mse: 0.1475\n",
      "Epoch 1/20\n",
      "29/29 [==============================] - 2s 10ms/step - loss: 0.1672 - mae: 0.1672 - mse: 0.0489 - val_loss: 0.1621 - val_mae: 0.1621 - val_mse: 0.0454\n",
      "Epoch 2/20\n",
      "29/29 [==============================] - 0s 4ms/step - loss: 0.1633 - mae: 0.1633 - mse: 0.0471 - val_loss: 0.1690 - val_mae: 0.1690 - val_mse: 0.0440\n",
      "Epoch 3/20\n",
      "29/29 [==============================] - 0s 4ms/step - loss: 0.1593 - mae: 0.1593 - mse: 0.0440 - val_loss: 0.1493 - val_mae: 0.1493 - val_mse: 0.0387\n",
      "Epoch 4/20\n",
      "29/29 [==============================] - 0s 5ms/step - loss: 0.1379 - mae: 0.1379 - mse: 0.0348 - val_loss: 0.1132 - val_mae: 0.1132 - val_mse: 0.0252\n",
      "Epoch 5/20\n",
      "29/29 [==============================] - 0s 4ms/step - loss: 0.0981 - mae: 0.0981 - mse: 0.0193 - val_loss: 0.0857 - val_mae: 0.0857 - val_mse: 0.0145\n",
      "Epoch 6/20\n",
      "29/29 [==============================] - 0s 4ms/step - loss: 0.0822 - mae: 0.0822 - mse: 0.0127 - val_loss: 0.0782 - val_mae: 0.0782 - val_mse: 0.0109\n",
      "Epoch 7/20\n",
      "29/29 [==============================] - 0s 4ms/step - loss: 0.0707 - mae: 0.0707 - mse: 0.0092 - val_loss: 0.0593 - val_mae: 0.0593 - val_mse: 0.0067\n",
      "Epoch 8/20\n",
      "29/29 [==============================] - 0s 4ms/step - loss: 0.0593 - mae: 0.0593 - mse: 0.0066 - val_loss: 0.0509 - val_mae: 0.0509 - val_mse: 0.0052\n",
      "Epoch 9/20\n",
      "29/29 [==============================] - 0s 4ms/step - loss: 0.0589 - mae: 0.0589 - mse: 0.0063 - val_loss: 0.0487 - val_mae: 0.0487 - val_mse: 0.0046\n",
      "Epoch 10/20\n",
      "29/29 [==============================] - 0s 4ms/step - loss: 0.0490 - mae: 0.0490 - mse: 0.0047 - val_loss: 0.0431 - val_mae: 0.0431 - val_mse: 0.0039\n",
      "Epoch 11/20\n",
      "29/29 [==============================] - 0s 4ms/step - loss: 0.0448 - mae: 0.0448 - mse: 0.0040 - val_loss: 0.0432 - val_mae: 0.0432 - val_mse: 0.0036\n",
      "Epoch 12/20\n",
      "29/29 [==============================] - 0s 4ms/step - loss: 0.0446 - mae: 0.0446 - mse: 0.0038 - val_loss: 0.0424 - val_mae: 0.0424 - val_mse: 0.0037\n",
      "Epoch 13/20\n",
      "29/29 [==============================] - 0s 4ms/step - loss: 0.0418 - mae: 0.0418 - mse: 0.0036 - val_loss: 0.0524 - val_mae: 0.0524 - val_mse: 0.0045\n",
      "Epoch 14/20\n",
      "29/29 [==============================] - 0s 4ms/step - loss: 0.0432 - mae: 0.0432 - mse: 0.0036 - val_loss: 0.0341 - val_mae: 0.0341 - val_mse: 0.0026\n",
      "Epoch 15/20\n",
      "29/29 [==============================] - 0s 5ms/step - loss: 0.0424 - mae: 0.0424 - mse: 0.0036 - val_loss: 0.0376 - val_mae: 0.0376 - val_mse: 0.0028\n",
      "Epoch 16/20\n",
      "29/29 [==============================] - 0s 7ms/step - loss: 0.0403 - mae: 0.0403 - mse: 0.0031 - val_loss: 0.0489 - val_mae: 0.0489 - val_mse: 0.0044\n",
      "Epoch 17/20\n",
      "29/29 [==============================] - 0s 6ms/step - loss: 0.0406 - mae: 0.0406 - mse: 0.0034 - val_loss: 0.0335 - val_mae: 0.0335 - val_mse: 0.0025\n",
      "Epoch 18/20\n",
      "29/29 [==============================] - 0s 5ms/step - loss: 0.0364 - mae: 0.0364 - mse: 0.0029 - val_loss: 0.0323 - val_mae: 0.0323 - val_mse: 0.0024\n",
      "Epoch 19/20\n",
      "29/29 [==============================] - 0s 6ms/step - loss: 0.0371 - mae: 0.0371 - mse: 0.0029 - val_loss: 0.0335 - val_mae: 0.0335 - val_mse: 0.0028\n",
      "Epoch 20/20\n",
      "29/29 [==============================] - 0s 7ms/step - loss: 0.0360 - mae: 0.0360 - mse: 0.0028 - val_loss: 0.0323 - val_mae: 0.0323 - val_mse: 0.0024\n",
      "Epoch 1/20\n",
      "29/29 [==============================] - 1s 11ms/step - loss: 0.2144 - mae: 0.2144 - mse: 0.0617 - val_loss: 0.1786 - val_mae: 0.1786 - val_mse: 0.0458\n",
      "Epoch 2/20\n",
      "29/29 [==============================] - 0s 4ms/step - loss: 0.1749 - mae: 0.1749 - mse: 0.0458 - val_loss: 0.1579 - val_mae: 0.1579 - val_mse: 0.0390\n",
      "Epoch 3/20\n",
      "29/29 [==============================] - 0s 4ms/step - loss: 0.1644 - mae: 0.1644 - mse: 0.0445 - val_loss: 0.1537 - val_mae: 0.1537 - val_mse: 0.0394\n",
      "Epoch 4/20\n",
      "29/29 [==============================] - 0s 4ms/step - loss: 0.1630 - mae: 0.1630 - mse: 0.0454 - val_loss: 0.1536 - val_mae: 0.1536 - val_mse: 0.0396\n",
      "Epoch 5/20\n",
      "29/29 [==============================] - 0s 4ms/step - loss: 0.1629 - mae: 0.1629 - mse: 0.0460 - val_loss: 0.1536 - val_mae: 0.1536 - val_mse: 0.0399\n",
      "Epoch 6/20\n",
      "29/29 [==============================] - 0s 4ms/step - loss: 0.1628 - mae: 0.1628 - mse: 0.0457 - val_loss: 0.1534 - val_mae: 0.1534 - val_mse: 0.0397\n",
      "Epoch 7/20\n",
      "29/29 [==============================] - 0s 4ms/step - loss: 0.1627 - mae: 0.1627 - mse: 0.0459 - val_loss: 0.1533 - val_mae: 0.1533 - val_mse: 0.0397\n",
      "Epoch 8/20\n",
      "29/29 [==============================] - 0s 4ms/step - loss: 0.1625 - mae: 0.1625 - mse: 0.0452 - val_loss: 0.1530 - val_mae: 0.1530 - val_mse: 0.0392\n",
      "Epoch 9/20\n",
      "29/29 [==============================] - 0s 4ms/step - loss: 0.1623 - mae: 0.1623 - mse: 0.0452 - val_loss: 0.1529 - val_mae: 0.1529 - val_mse: 0.0394\n",
      "Epoch 10/20\n",
      "29/29 [==============================] - 0s 4ms/step - loss: 0.1620 - mae: 0.1620 - mse: 0.0454 - val_loss: 0.1527 - val_mae: 0.1527 - val_mse: 0.0393\n",
      "Epoch 11/20\n",
      "29/29 [==============================] - 0s 4ms/step - loss: 0.1619 - mae: 0.1619 - mse: 0.0451 - val_loss: 0.1524 - val_mae: 0.1524 - val_mse: 0.0391\n",
      "Epoch 12/20\n",
      "29/29 [==============================] - 0s 4ms/step - loss: 0.1617 - mae: 0.1617 - mse: 0.0450 - val_loss: 0.1522 - val_mae: 0.1522 - val_mse: 0.0389\n",
      "Epoch 13/20\n",
      "29/29 [==============================] - 0s 4ms/step - loss: 0.1614 - mae: 0.1614 - mse: 0.0449 - val_loss: 0.1519 - val_mae: 0.1519 - val_mse: 0.0389\n",
      "Epoch 14/20\n",
      "29/29 [==============================] - 0s 4ms/step - loss: 0.1611 - mae: 0.1611 - mse: 0.0449 - val_loss: 0.1516 - val_mae: 0.1516 - val_mse: 0.0388\n",
      "Epoch 15/20\n",
      "29/29 [==============================] - 0s 4ms/step - loss: 0.1609 - mae: 0.1609 - mse: 0.0443 - val_loss: 0.1512 - val_mae: 0.1512 - val_mse: 0.0385\n",
      "Epoch 16/20\n",
      "29/29 [==============================] - 0s 4ms/step - loss: 0.1604 - mae: 0.1604 - mse: 0.0447 - val_loss: 0.1509 - val_mae: 0.1509 - val_mse: 0.0386\n",
      "Epoch 17/20\n",
      "29/29 [==============================] - 0s 6ms/step - loss: 0.1600 - mae: 0.1600 - mse: 0.0442 - val_loss: 0.1504 - val_mae: 0.1504 - val_mse: 0.0384\n",
      "Epoch 18/20\n",
      "29/29 [==============================] - 0s 4ms/step - loss: 0.1595 - mae: 0.1595 - mse: 0.0437 - val_loss: 0.1498 - val_mae: 0.1498 - val_mse: 0.0379\n",
      "Epoch 19/20\n",
      "29/29 [==============================] - 0s 5ms/step - loss: 0.1588 - mae: 0.1588 - mse: 0.0437 - val_loss: 0.1492 - val_mae: 0.1492 - val_mse: 0.0378\n",
      "Epoch 20/20\n",
      "29/29 [==============================] - 0s 5ms/step - loss: 0.1580 - mae: 0.1580 - mse: 0.0435 - val_loss: 0.1483 - val_mae: 0.1483 - val_mse: 0.0373\n",
      "Epoch 1/20\n",
      "29/29 [==============================] - 1s 10ms/step - loss: 0.6430 - mae: 0.6430 - mse: 0.4593 - val_loss: 0.5892 - val_mae: 0.5892 - val_mse: 0.3880\n",
      "Epoch 2/20\n",
      "29/29 [==============================] - 0s 4ms/step - loss: 0.5269 - mae: 0.5269 - mse: 0.3202 - val_loss: 0.4803 - val_mae: 0.4803 - val_mse: 0.2640\n",
      "Epoch 3/20\n",
      "29/29 [==============================] - 0s 4ms/step - loss: 0.4231 - mae: 0.4231 - mse: 0.2136 - val_loss: 0.3841 - val_mae: 0.3841 - val_mse: 0.1737\n",
      "Epoch 4/20\n",
      "29/29 [==============================] - 0s 4ms/step - loss: 0.3373 - mae: 0.3373 - mse: 0.1403 - val_loss: 0.3038 - val_mae: 0.3038 - val_mse: 0.1137\n",
      "Epoch 5/20\n",
      "29/29 [==============================] - 0s 4ms/step - loss: 0.2711 - mae: 0.2711 - mse: 0.0933 - val_loss: 0.2416 - val_mae: 0.2416 - val_mse: 0.0761\n",
      "Epoch 6/20\n",
      "29/29 [==============================] - 0s 4ms/step - loss: 0.2232 - mae: 0.2232 - mse: 0.0652 - val_loss: 0.1986 - val_mae: 0.1986 - val_mse: 0.0558\n",
      "Epoch 7/20\n",
      "29/29 [==============================] - 0s 4ms/step - loss: 0.1923 - mae: 0.1923 - mse: 0.0514 - val_loss: 0.1742 - val_mae: 0.1742 - val_mse: 0.0467\n",
      "Epoch 8/20\n",
      "29/29 [==============================] - 0s 4ms/step - loss: 0.1754 - mae: 0.1754 - mse: 0.0461 - val_loss: 0.1636 - val_mae: 0.1636 - val_mse: 0.0434\n",
      "Epoch 9/20\n",
      "29/29 [==============================] - 0s 4ms/step - loss: 0.1680 - mae: 0.1680 - mse: 0.0449 - val_loss: 0.1584 - val_mae: 0.1584 - val_mse: 0.0427\n",
      "Epoch 10/20\n",
      "29/29 [==============================] - 0s 4ms/step - loss: 0.1651 - mae: 0.1651 - mse: 0.0453 - val_loss: 0.1567 - val_mae: 0.1567 - val_mse: 0.0430\n",
      "Epoch 11/20\n",
      "29/29 [==============================] - 0s 5ms/step - loss: 0.1644 - mae: 0.1644 - mse: 0.0460 - val_loss: 0.1562 - val_mae: 0.1562 - val_mse: 0.0434\n",
      "Epoch 12/20\n",
      "29/29 [==============================] - 0s 4ms/step - loss: 0.1642 - mae: 0.1642 - mse: 0.0461 - val_loss: 0.1562 - val_mae: 0.1562 - val_mse: 0.0434\n",
      "Epoch 13/20\n",
      "29/29 [==============================] - 0s 4ms/step - loss: 0.1641 - mae: 0.1641 - mse: 0.0462 - val_loss: 0.1561 - val_mae: 0.1561 - val_mse: 0.0435\n",
      "Epoch 14/20\n",
      "29/29 [==============================] - 0s 4ms/step - loss: 0.1641 - mae: 0.1641 - mse: 0.0464 - val_loss: 0.1561 - val_mae: 0.1561 - val_mse: 0.0436\n",
      "Epoch 15/20\n",
      "29/29 [==============================] - 0s 5ms/step - loss: 0.1641 - mae: 0.1641 - mse: 0.0463 - val_loss: 0.1561 - val_mae: 0.1561 - val_mse: 0.0435\n",
      "Epoch 16/20\n",
      "29/29 [==============================] - 0s 4ms/step - loss: 0.1640 - mae: 0.1640 - mse: 0.0464 - val_loss: 0.1561 - val_mae: 0.1561 - val_mse: 0.0437\n",
      "Epoch 17/20\n",
      "29/29 [==============================] - 0s 6ms/step - loss: 0.1640 - mae: 0.1640 - mse: 0.0464 - val_loss: 0.1560 - val_mae: 0.1560 - val_mse: 0.0437\n",
      "Epoch 18/20\n",
      "29/29 [==============================] - 0s 5ms/step - loss: 0.1640 - mae: 0.1640 - mse: 0.0467 - val_loss: 0.1560 - val_mae: 0.1560 - val_mse: 0.0437\n",
      "Epoch 19/20\n",
      "29/29 [==============================] - 0s 4ms/step - loss: 0.1641 - mae: 0.1641 - mse: 0.0468 - val_loss: 0.1560 - val_mae: 0.1560 - val_mse: 0.0438\n",
      "Epoch 20/20\n",
      "29/29 [==============================] - 0s 4ms/step - loss: 0.1640 - mae: 0.1640 - mse: 0.0464 - val_loss: 0.1559 - val_mae: 0.1559 - val_mse: 0.0435\n",
      "Epoch 1/20\n",
      "29/29 [==============================] - 1s 10ms/step - loss: 0.1853 - mae: 0.1853 - mse: 0.0495 - val_loss: 0.1694 - val_mae: 0.1694 - val_mse: 0.0448\n",
      "Epoch 2/20\n",
      "29/29 [==============================] - 0s 4ms/step - loss: 0.1643 - mae: 0.1643 - mse: 0.0447 - val_loss: 0.1633 - val_mae: 0.1633 - val_mse: 0.0457\n",
      "Epoch 3/20\n",
      "29/29 [==============================] - 0s 4ms/step - loss: 0.1636 - mae: 0.1636 - mse: 0.0466 - val_loss: 0.1632 - val_mae: 0.1632 - val_mse: 0.0463\n",
      "Epoch 4/20\n",
      "29/29 [==============================] - 0s 4ms/step - loss: 0.1634 - mae: 0.1634 - mse: 0.0463 - val_loss: 0.1630 - val_mae: 0.1630 - val_mse: 0.0457\n",
      "Epoch 5/20\n",
      "29/29 [==============================] - 0s 4ms/step - loss: 0.1632 - mae: 0.1632 - mse: 0.0458 - val_loss: 0.1628 - val_mae: 0.1628 - val_mse: 0.0456\n",
      "Epoch 6/20\n",
      "29/29 [==============================] - 0s 4ms/step - loss: 0.1631 - mae: 0.1631 - mse: 0.0462 - val_loss: 0.1627 - val_mae: 0.1627 - val_mse: 0.0454\n",
      "Epoch 7/20\n",
      "29/29 [==============================] - 0s 4ms/step - loss: 0.1628 - mae: 0.1628 - mse: 0.0454 - val_loss: 0.1628 - val_mae: 0.1628 - val_mse: 0.0449\n",
      "Epoch 8/20\n",
      "29/29 [==============================] - 0s 4ms/step - loss: 0.1627 - mae: 0.1627 - mse: 0.0450 - val_loss: 0.1625 - val_mae: 0.1625 - val_mse: 0.0449\n",
      "Epoch 9/20\n",
      "29/29 [==============================] - 0s 4ms/step - loss: 0.1626 - mae: 0.1626 - mse: 0.0463 - val_loss: 0.1621 - val_mae: 0.1621 - val_mse: 0.0457\n",
      "Epoch 10/20\n",
      "29/29 [==============================] - 0s 5ms/step - loss: 0.1624 - mae: 0.1624 - mse: 0.0453 - val_loss: 0.1620 - val_mae: 0.1620 - val_mse: 0.0448\n",
      "Epoch 11/20\n",
      "29/29 [==============================] - 0s 4ms/step - loss: 0.1621 - mae: 0.1621 - mse: 0.0452 - val_loss: 0.1616 - val_mae: 0.1616 - val_mse: 0.0448\n",
      "Epoch 12/20\n",
      "29/29 [==============================] - 0s 4ms/step - loss: 0.1616 - mae: 0.1616 - mse: 0.0450 - val_loss: 0.1613 - val_mae: 0.1613 - val_mse: 0.0446\n",
      "Epoch 13/20\n",
      "29/29 [==============================] - 0s 4ms/step - loss: 0.1615 - mae: 0.1615 - mse: 0.0449 - val_loss: 0.1612 - val_mae: 0.1612 - val_mse: 0.0439\n",
      "Epoch 14/20\n",
      "29/29 [==============================] - 0s 4ms/step - loss: 0.1610 - mae: 0.1610 - mse: 0.0445 - val_loss: 0.1604 - val_mae: 0.1604 - val_mse: 0.0442\n",
      "Epoch 15/20\n",
      "29/29 [==============================] - 0s 4ms/step - loss: 0.1604 - mae: 0.1604 - mse: 0.0446 - val_loss: 0.1598 - val_mae: 0.1598 - val_mse: 0.0444\n",
      "Epoch 16/20\n",
      "29/29 [==============================] - 0s 4ms/step - loss: 0.1599 - mae: 0.1599 - mse: 0.0445 - val_loss: 0.1593 - val_mae: 0.1593 - val_mse: 0.0437\n",
      "Epoch 17/20\n",
      "29/29 [==============================] - 0s 4ms/step - loss: 0.1593 - mae: 0.1593 - mse: 0.0437 - val_loss: 0.1587 - val_mae: 0.1587 - val_mse: 0.0430\n",
      "Epoch 18/20\n",
      "29/29 [==============================] - 0s 6ms/step - loss: 0.1585 - mae: 0.1585 - mse: 0.0432 - val_loss: 0.1578 - val_mae: 0.1578 - val_mse: 0.0428\n",
      "Epoch 19/20\n",
      "29/29 [==============================] - 0s 4ms/step - loss: 0.1580 - mae: 0.1580 - mse: 0.0426 - val_loss: 0.1566 - val_mae: 0.1566 - val_mse: 0.0430\n",
      "Epoch 20/20\n",
      "29/29 [==============================] - 0s 4ms/step - loss: 0.1567 - mae: 0.1567 - mse: 0.0433 - val_loss: 0.1556 - val_mae: 0.1556 - val_mse: 0.0416\n",
      "Epoch 1/20\n",
      "29/29 [==============================] - 1s 12ms/step - loss: 0.3325 - mae: 0.3325 - mse: 0.1574 - val_loss: 0.3178 - val_mae: 0.3178 - val_mse: 0.1475\n",
      "Epoch 2/20\n",
      "29/29 [==============================] - 0s 4ms/step - loss: 0.3325 - mae: 0.3325 - mse: 0.1574 - val_loss: 0.3178 - val_mae: 0.3178 - val_mse: 0.1475\n",
      "Epoch 3/20\n",
      "29/29 [==============================] - 0s 4ms/step - loss: 0.3325 - mae: 0.3325 - mse: 0.1574 - val_loss: 0.3178 - val_mae: 0.3178 - val_mse: 0.1475\n",
      "Epoch 4/20\n",
      "29/29 [==============================] - 0s 4ms/step - loss: 0.3325 - mae: 0.3325 - mse: 0.1574 - val_loss: 0.3178 - val_mae: 0.3178 - val_mse: 0.1475\n",
      "Epoch 5/20\n",
      "29/29 [==============================] - 0s 4ms/step - loss: 0.3325 - mae: 0.3325 - mse: 0.1574 - val_loss: 0.3178 - val_mae: 0.3178 - val_mse: 0.1475\n",
      "Epoch 6/20\n",
      "29/29 [==============================] - 0s 4ms/step - loss: 0.3325 - mae: 0.3325 - mse: 0.1574 - val_loss: 0.3178 - val_mae: 0.3178 - val_mse: 0.1475\n",
      "Epoch 7/20\n",
      "29/29 [==============================] - 0s 4ms/step - loss: 0.3325 - mae: 0.3325 - mse: 0.1574 - val_loss: 0.3178 - val_mae: 0.3178 - val_mse: 0.1475\n",
      "Epoch 8/20\n",
      "29/29 [==============================] - 0s 4ms/step - loss: 0.3325 - mae: 0.3325 - mse: 0.1574 - val_loss: 0.3178 - val_mae: 0.3178 - val_mse: 0.1475\n",
      "Epoch 9/20\n",
      "29/29 [==============================] - 0s 4ms/step - loss: 0.3325 - mae: 0.3325 - mse: 0.1574 - val_loss: 0.3178 - val_mae: 0.3178 - val_mse: 0.1475\n",
      "Epoch 10/20\n",
      "29/29 [==============================] - 0s 4ms/step - loss: 0.3325 - mae: 0.3325 - mse: 0.1574 - val_loss: 0.3178 - val_mae: 0.3178 - val_mse: 0.1475\n",
      "Epoch 11/20\n",
      "29/29 [==============================] - 0s 4ms/step - loss: 0.3325 - mae: 0.3325 - mse: 0.1574 - val_loss: 0.3178 - val_mae: 0.3178 - val_mse: 0.1475\n",
      "Epoch 12/20\n",
      "29/29 [==============================] - 0s 4ms/step - loss: 0.3325 - mae: 0.3325 - mse: 0.1574 - val_loss: 0.3178 - val_mae: 0.3178 - val_mse: 0.1475\n",
      "Epoch 13/20\n",
      "29/29 [==============================] - 0s 4ms/step - loss: 0.3325 - mae: 0.3325 - mse: 0.1574 - val_loss: 0.3178 - val_mae: 0.3178 - val_mse: 0.1475\n",
      "Epoch 14/20\n",
      "29/29 [==============================] - 0s 4ms/step - loss: 0.3325 - mae: 0.3325 - mse: 0.1574 - val_loss: 0.3178 - val_mae: 0.3178 - val_mse: 0.1475\n",
      "Epoch 15/20\n",
      "29/29 [==============================] - 0s 4ms/step - loss: 0.3325 - mae: 0.3325 - mse: 0.1574 - val_loss: 0.3178 - val_mae: 0.3178 - val_mse: 0.1475\n",
      "Epoch 16/20\n",
      "29/29 [==============================] - 0s 4ms/step - loss: 0.3325 - mae: 0.3325 - mse: 0.1574 - val_loss: 0.3178 - val_mae: 0.3178 - val_mse: 0.1475\n",
      "Epoch 17/20\n",
      "29/29 [==============================] - 0s 4ms/step - loss: 0.3325 - mae: 0.3325 - mse: 0.1574 - val_loss: 0.3178 - val_mae: 0.3178 - val_mse: 0.1475\n",
      "Epoch 18/20\n",
      "29/29 [==============================] - 0s 5ms/step - loss: 0.3325 - mae: 0.3325 - mse: 0.1574 - val_loss: 0.3178 - val_mae: 0.3178 - val_mse: 0.1475\n",
      "Epoch 19/20\n",
      "29/29 [==============================] - 0s 6ms/step - loss: 0.3325 - mae: 0.3325 - mse: 0.1574 - val_loss: 0.3178 - val_mae: 0.3178 - val_mse: 0.1475\n",
      "Epoch 20/20\n",
      "29/29 [==============================] - 0s 4ms/step - loss: 0.3325 - mae: 0.3325 - mse: 0.1574 - val_loss: 0.3178 - val_mae: 0.3178 - val_mse: 0.1475\n",
      "Epoch 1/20\n",
      "29/29 [==============================] - 1s 10ms/step - loss: 0.2284 - mae: 0.2284 - mse: 0.0908 - val_loss: 0.1747 - val_mae: 0.1747 - val_mse: 0.0589\n",
      "Epoch 2/20\n",
      "29/29 [==============================] - 0s 4ms/step - loss: 0.1706 - mae: 0.1706 - mse: 0.0530 - val_loss: 0.1627 - val_mae: 0.1627 - val_mse: 0.0461\n",
      "Epoch 3/20\n",
      "29/29 [==============================] - 0s 4ms/step - loss: 0.1650 - mae: 0.1650 - mse: 0.0470 - val_loss: 0.1627 - val_mae: 0.1627 - val_mse: 0.0459\n",
      "Epoch 4/20\n",
      "29/29 [==============================] - 0s 4ms/step - loss: 0.1647 - mae: 0.1647 - mse: 0.0467 - val_loss: 0.1629 - val_mae: 0.1629 - val_mse: 0.0456\n",
      "Epoch 5/20\n",
      "29/29 [==============================] - 0s 4ms/step - loss: 0.1646 - mae: 0.1646 - mse: 0.0467 - val_loss: 0.1627 - val_mae: 0.1627 - val_mse: 0.0455\n",
      "Epoch 6/20\n",
      "29/29 [==============================] - 0s 5ms/step - loss: 0.1644 - mae: 0.1644 - mse: 0.0466 - val_loss: 0.1626 - val_mae: 0.1626 - val_mse: 0.0454\n",
      "Epoch 7/20\n",
      "29/29 [==============================] - 0s 4ms/step - loss: 0.1643 - mae: 0.1643 - mse: 0.0470 - val_loss: 0.1620 - val_mae: 0.1620 - val_mse: 0.0455\n",
      "Epoch 8/20\n",
      "29/29 [==============================] - 0s 4ms/step - loss: 0.1642 - mae: 0.1642 - mse: 0.0463 - val_loss: 0.1615 - val_mae: 0.1615 - val_mse: 0.0455\n",
      "Epoch 9/20\n",
      "29/29 [==============================] - 0s 4ms/step - loss: 0.1639 - mae: 0.1639 - mse: 0.0469 - val_loss: 0.1619 - val_mae: 0.1619 - val_mse: 0.0450\n",
      "Epoch 10/20\n",
      "29/29 [==============================] - 0s 4ms/step - loss: 0.1634 - mae: 0.1634 - mse: 0.0459 - val_loss: 0.1612 - val_mae: 0.1612 - val_mse: 0.0450\n",
      "Epoch 11/20\n",
      "29/29 [==============================] - 0s 5ms/step - loss: 0.1631 - mae: 0.1631 - mse: 0.0463 - val_loss: 0.1605 - val_mae: 0.1605 - val_mse: 0.0450\n",
      "Epoch 12/20\n",
      "29/29 [==============================] - 0s 7ms/step - loss: 0.1627 - mae: 0.1627 - mse: 0.0463 - val_loss: 0.1606 - val_mae: 0.1606 - val_mse: 0.0445\n",
      "Epoch 13/20\n",
      "29/29 [==============================] - 0s 5ms/step - loss: 0.1624 - mae: 0.1624 - mse: 0.0453 - val_loss: 0.1598 - val_mae: 0.1598 - val_mse: 0.0445\n",
      "Epoch 14/20\n",
      "29/29 [==============================] - 0s 6ms/step - loss: 0.1619 - mae: 0.1619 - mse: 0.0453 - val_loss: 0.1594 - val_mae: 0.1594 - val_mse: 0.0441\n",
      "Epoch 15/20\n",
      "29/29 [==============================] - 0s 5ms/step - loss: 0.1613 - mae: 0.1613 - mse: 0.0451 - val_loss: 0.1589 - val_mae: 0.1589 - val_mse: 0.0438\n",
      "Epoch 16/20\n",
      "29/29 [==============================] - 0s 4ms/step - loss: 0.1608 - mae: 0.1608 - mse: 0.0457 - val_loss: 0.1580 - val_mae: 0.1580 - val_mse: 0.0435\n",
      "Epoch 17/20\n",
      "29/29 [==============================] - 0s 4ms/step - loss: 0.1601 - mae: 0.1601 - mse: 0.0444 - val_loss: 0.1569 - val_mae: 0.1569 - val_mse: 0.0433\n",
      "Epoch 18/20\n",
      "29/29 [==============================] - 0s 6ms/step - loss: 0.1590 - mae: 0.1590 - mse: 0.0444 - val_loss: 0.1560 - val_mae: 0.1560 - val_mse: 0.0428\n",
      "Epoch 19/20\n",
      "29/29 [==============================] - 0s 4ms/step - loss: 0.1580 - mae: 0.1580 - mse: 0.0437 - val_loss: 0.1547 - val_mae: 0.1547 - val_mse: 0.0423\n",
      "Epoch 20/20\n",
      "29/29 [==============================] - 0s 4ms/step - loss: 0.1570 - mae: 0.1570 - mse: 0.0425 - val_loss: 0.1536 - val_mae: 0.1536 - val_mse: 0.0415\n",
      "Epoch 1/20\n",
      "36/36 [==============================] - 1s 9ms/step - loss: 0.3301 - mae: 0.3301 - mse: 0.1541 - val_loss: 0.3197 - val_mae: 0.3197 - val_mse: 0.1457\n",
      "Epoch 2/20\n",
      "36/36 [==============================] - 0s 3ms/step - loss: 0.3301 - mae: 0.3301 - mse: 0.1541 - val_loss: 0.3197 - val_mae: 0.3197 - val_mse: 0.1457\n",
      "Epoch 3/20\n",
      "36/36 [==============================] - 0s 4ms/step - loss: 0.3301 - mae: 0.3301 - mse: 0.1541 - val_loss: 0.3197 - val_mae: 0.3197 - val_mse: 0.1457\n",
      "Epoch 4/20\n",
      "36/36 [==============================] - 0s 4ms/step - loss: 0.3301 - mae: 0.3301 - mse: 0.1541 - val_loss: 0.3197 - val_mae: 0.3197 - val_mse: 0.1457\n",
      "Epoch 5/20\n",
      "36/36 [==============================] - 0s 4ms/step - loss: 0.3301 - mae: 0.3301 - mse: 0.1541 - val_loss: 0.3197 - val_mae: 0.3197 - val_mse: 0.1457\n",
      "Epoch 6/20\n",
      "36/36 [==============================] - 0s 4ms/step - loss: 0.3301 - mae: 0.3301 - mse: 0.1541 - val_loss: 0.3197 - val_mae: 0.3197 - val_mse: 0.1457\n",
      "Epoch 7/20\n",
      "36/36 [==============================] - 0s 4ms/step - loss: 0.3301 - mae: 0.3301 - mse: 0.1541 - val_loss: 0.3197 - val_mae: 0.3197 - val_mse: 0.1457\n",
      "Epoch 8/20\n",
      "36/36 [==============================] - 0s 4ms/step - loss: 0.3301 - mae: 0.3301 - mse: 0.1541 - val_loss: 0.3197 - val_mae: 0.3197 - val_mse: 0.1457\n",
      "Epoch 9/20\n",
      "36/36 [==============================] - 0s 4ms/step - loss: 0.3301 - mae: 0.3301 - mse: 0.1541 - val_loss: 0.3197 - val_mae: 0.3197 - val_mse: 0.1457\n",
      "Epoch 10/20\n",
      "36/36 [==============================] - 0s 4ms/step - loss: 0.3301 - mae: 0.3301 - mse: 0.1541 - val_loss: 0.3197 - val_mae: 0.3197 - val_mse: 0.1457\n",
      "Epoch 11/20\n",
      "36/36 [==============================] - 0s 4ms/step - loss: 0.3301 - mae: 0.3301 - mse: 0.1541 - val_loss: 0.3197 - val_mae: 0.3197 - val_mse: 0.1457\n",
      "Epoch 12/20\n",
      "36/36 [==============================] - 0s 4ms/step - loss: 0.3301 - mae: 0.3301 - mse: 0.1541 - val_loss: 0.3197 - val_mae: 0.3197 - val_mse: 0.1457\n",
      "Epoch 13/20\n",
      "36/36 [==============================] - 0s 4ms/step - loss: 0.3301 - mae: 0.3301 - mse: 0.1541 - val_loss: 0.3197 - val_mae: 0.3197 - val_mse: 0.1457\n",
      "Epoch 14/20\n",
      "36/36 [==============================] - 0s 4ms/step - loss: 0.3301 - mae: 0.3301 - mse: 0.1541 - val_loss: 0.3197 - val_mae: 0.3197 - val_mse: 0.1457\n",
      "Epoch 15/20\n",
      "36/36 [==============================] - 0s 3ms/step - loss: 0.3301 - mae: 0.3301 - mse: 0.1541 - val_loss: 0.3197 - val_mae: 0.3197 - val_mse: 0.1457\n",
      "Epoch 16/20\n",
      "36/36 [==============================] - 0s 5ms/step - loss: 0.3301 - mae: 0.3301 - mse: 0.1541 - val_loss: 0.3197 - val_mae: 0.3197 - val_mse: 0.1457\n",
      "Epoch 17/20\n",
      "36/36 [==============================] - 0s 4ms/step - loss: 0.3301 - mae: 0.3301 - mse: 0.1541 - val_loss: 0.3197 - val_mae: 0.3197 - val_mse: 0.1457\n",
      "Epoch 18/20\n",
      "36/36 [==============================] - 0s 4ms/step - loss: 0.3301 - mae: 0.3301 - mse: 0.1541 - val_loss: 0.3197 - val_mae: 0.3197 - val_mse: 0.1457\n",
      "Epoch 19/20\n",
      "36/36 [==============================] - 0s 4ms/step - loss: 0.3301 - mae: 0.3301 - mse: 0.1541 - val_loss: 0.3197 - val_mae: 0.3197 - val_mse: 0.1457\n",
      "Epoch 20/20\n",
      "36/36 [==============================] - 0s 4ms/step - loss: 0.3301 - mae: 0.3301 - mse: 0.1541 - val_loss: 0.3197 - val_mae: 0.3197 - val_mse: 0.1457\n"
     ]
    },
    {
     "data": {
      "text/plain": [
       "GridSearchCV(cv=KFold(n_splits=5, random_state=2021, shuffle=True),\n",
       "             estimator=<keras.wrappers.scikit_learn.KerasRegressor object at 0x7f7d1c1d57b8>,\n",
       "             param_grid={'activation': ['relu', 'sigmoid'],\n",
       "                         'learning_rate': [0.01, 0.001]},\n",
       "             refit='True', scoring='neg_mean_absolute_error', verbose=1)"
      ]
     },
     "execution_count": 206,
     "metadata": {},
     "output_type": "execute_result"
    }
   ],
   "source": [
    "kf = KFold(n_splits=5, shuffle=True, random_state=RANDOM_SEED)\n",
    "\n",
    "model = KerasRegressor(build_fn=build_model, epochs=20, batch_size=32)\n",
    "grid_search = GridSearchCV(estimator=model, param_grid=TURNING_DICT, cv=kf, scoring='neg_mean_absolute_error', refit='True', verbose=1)\n",
    "grid_search.fit(x_train, y_train, validation_split=0.2)"
   ]
  },
  {
   "cell_type": "code",
   "execution_count": 207,
   "metadata": {},
   "outputs": [
    {
     "name": "stdout",
     "output_type": "stream",
     "text": [
      "Best: -0.147123 using {'activation': 'relu', 'learning_rate': 0.01}\n",
      "-0.147123 (0.145926) with: {'activation': 'relu', 'learning_rate': 0.01}\n",
      "-0.214952 (0.140457) with: {'activation': 'relu', 'learning_rate': 0.001}\n",
      "-0.270927 (0.117853) with: {'activation': 'sigmoid', 'learning_rate': 0.01}\n",
      "-0.194213 (0.064252) with: {'activation': 'sigmoid', 'learning_rate': 0.001}\n"
     ]
    }
   ],
   "source": [
    "print(\"Best: %f using %s\" % (grid_search.best_score_,grid_search.best_params_))\n",
    "means = grid_search.cv_results_['mean_test_score']\n",
    "stds = grid_search.cv_results_['std_test_score']\n",
    "params = grid_search.cv_results_['params']\n",
    "for mean,stdev,param in zip(means,stds,params):\n",
    "    print(\"%f (%f) with: %r\" % (mean,stdev,param))"
   ]
  },
  {
   "cell_type": "code",
   "execution_count": 208,
   "metadata": {},
   "outputs": [],
   "source": [
    "#para ver se o nosso modelo está overfitted"
   ]
  },
  {
   "cell_type": "code",
   "execution_count": 209,
   "metadata": {},
   "outputs": [
    {
     "data": {
      "image/png": "[encoded data removed]",
      "text/plain": [
       "<Figure size 864x864 with 4 Axes>"
      ]
     },
     "metadata": {
      "needs_background": "light"
     },
     "output_type": "display_data"
    },
    {
     "name": "stdout",
     "output_type": "stream",
     "text": [
      "Loss\n",
      "\ttraining         \t (min:    0.018, max:    0.127, cur:    0.018)\n",
      "\tvalidation       \t (min:    0.017, max:    0.097, cur:    0.022)\n",
      "mae\n",
      "\ttraining         \t (min:    0.018, max:    0.127, cur:    0.018)\n",
      "\tvalidation       \t (min:    0.017, max:    0.097, cur:    0.022)\n",
      "Mean Squared Error\n",
      "\ttraining         \t (min:    0.001, max:    0.029, cur:    0.001)\n",
      "\tvalidation       \t (min:    0.001, max:    0.019, cur:    0.001)\n"
     ]
    },
    {
     "data": {
      "text/plain": [
       "<keras.callbacks.History at 0x7f7c5ba02cc0>"
      ]
     },
     "execution_count": 209,
     "metadata": {},
     "output_type": "execute_result"
    }
   ],
   "source": [
    "best_mlp_model = grid_search.best_estimator_\n",
    "best_mlp_model.fit(x_train,y_train,epochs=20,validation_data=(x_test,y_test),callbacks=[PlotLossesKerasTF()],verbose=1)"
   ]
  },
  {
   "cell_type": "code",
   "execution_count": 210,
   "metadata": {},
   "outputs": [
    {
     "data": {
      "text/plain": [
       "array([[0.55375725],\n",
       "       [0.40826803],\n",
       "       [0.36033428],\n",
       "       [0.24564594],\n",
       "       [0.31122467]], dtype=float32)"
      ]
     },
     "execution_count": 210,
     "metadata": {},
     "output_type": "execute_result"
    }
   ],
   "source": [
    "#Get predictions\n",
    "predictionsMLP = best_mlp_model.predict(x_test)\n",
    "predictionsMLP = predictionsMLP.reshape(predictionsMLP.shape[0],1)\n",
    "predictionsMLP[:5] "
   ]
  },
  {
   "cell_type": "code",
   "execution_count": 211,
   "metadata": {},
   "outputs": [
    {
     "data": {
      "text/plain": [
       "array([[2360000.],\n",
       "       [1790000.],\n",
       "       [1550000.],\n",
       "       [1150000.],\n",
       "       [1500000.]])"
      ]
     },
     "execution_count": 211,
     "metadata": {},
     "output_type": "execute_result"
    }
   ],
   "source": [
    "# unscale the y_test\n",
    "y_test_unscaled = scaler_y.inverse_transform(y_test)\n",
    "y_test_unscaled[:5]"
   ]
  },
  {
   "cell_type": "code",
   "execution_count": 212,
   "metadata": {},
   "outputs": [
    {
     "data": {
      "text/plain": [
       "array([[2396266. ],\n",
       "       [1824493.4],\n",
       "       [1636113.8],\n",
       "       [1185388.5],\n",
       "       [1443112.9]], dtype=float32)"
      ]
     },
     "execution_count": 212,
     "metadata": {},
     "output_type": "execute_result"
    }
   ],
   "source": [
    "# unscale the model prediction \n",
    "predictionsMLP_unscaled = scaler_y.inverse_transform(predictionsMLP)\n",
    "predictionsMLP_unscaled[:5]"
   ]
  },
  {
   "cell_type": "code",
   "execution_count": 213,
   "metadata": {},
   "outputs": [
    {
     "name": "stdout",
     "output_type": "stream",
     "text": [
      "MAE: 87422.87210323036\n",
      "MSE: 13523977150.714931\n",
      "RMSE: 116292.63584043029\n"
     ]
    }
   ],
   "source": [
    "print('MAE:',metrics.mean_absolute_error(y_test_unscaled,predictionsMLP_unscaled))\n",
    "print('MSE:',metrics.mean_squared_error(y_test_unscaled,predictionsMLP_unscaled))\n",
    "print('RMSE:',np.sqrt(metrics.mean_squared_error(y_test_unscaled,predictionsMLP_unscaled)))"
   ]
  },
  {
   "cell_type": "code",
   "execution_count": 214,
   "metadata": {},
   "outputs": [
    {
     "data": {
      "text/plain": [
       "<matplotlib.collections.PathCollection at 0x7f7c586259e8>"
      ]
     },
     "execution_count": 214,
     "metadata": {},
     "output_type": "execute_result"
    },
    {
     "data": {
      "image/png": "[encoded data removed]",
      "text/plain": [
       "<Figure size 432x288 with 1 Axes>"
      ]
     },
     "metadata": {
      "needs_background": "light"
     },
     "output_type": "display_data"
    }
   ],
   "source": [
    "plt.scatter(y_test,predictionsMLP)"
   ]
  },
  {
   "cell_type": "code",
   "execution_count": 215,
   "metadata": {},
   "outputs": [
    {
     "data": {
      "image/png": "[encoded data removed]",
      "text/plain": [
       "<Figure size 1008x432 with 1 Axes>"
      ]
     },
     "metadata": {
      "needs_background": "light"
     },
     "output_type": "display_data"
    }
   ],
   "source": [
    "def real_predicted_viz(limit):\n",
    "    plt.figure(figsize=(14,6))\n",
    "    plt.plot(y_test_unscaled[:limit], color='green',label=\"Actual\")\n",
    "    plt.plot(predictionsMLP_unscaled[:limit],color=\"red\",label=\"Predicted\")\n",
    "    plt.grid(alpha=0.3)\n",
    "    plt.xlabel('Properties')\n",
    "    plt.ylabel('Price')\n",
    "    plt.title('Real X Predicted')\n",
    "    plt.legend()\n",
    "    plt.show()\n",
    "\n",
    "real_predicted_viz(200)    "
   ]
  },
  {
   "cell_type": "code",
   "execution_count": 216,
   "metadata": {},
   "outputs": [
    {
     "name": "stdout",
     "output_type": "stream",
     "text": [
      "MLP results\n",
      "\n",
      "MAE: 87422.87210323036\n",
      "MSE: 13523977150.714931\n",
      "RMSE: 116292.63584043029\n",
      "-------------------------------------------------------------\n",
      "DecisionTreeRegressor results:\n",
      "\n",
      "MAE: 68293.60898876404\n",
      "MSE: 14619723784.026966\n",
      "RMSE: 347.7241000971561\n",
      "-------------------------------------------------------------\n",
      "LinearRegressor results:\n",
      "\n",
      "MAE: 178092.749069489\n",
      "MSE: 62995077155.87196\n",
      "RMSE: 250988.20122840826\n"
     ]
    }
   ],
   "source": [
    "# Compare model results \n",
    "print(\"MLP results\\n\")\n",
    "print('MAE:',metrics.mean_absolute_error(y_test_unscaled,predictionsMLP_unscaled))\n",
    "print('MSE:',metrics.mean_squared_error(y_test_unscaled,predictionsMLP_unscaled))\n",
    "print('RMSE:',np.sqrt(metrics.mean_squared_error(y_test_unscaled,predictionsMLP_unscaled)))\n",
    "print('-------------------------------------------------------------')\n",
    "print('DecisionTreeRegressor results:\\n')\n",
    "print('MAE:',metrics.mean_absolute_error(y_test1,predictionsDT))\n",
    "print('MSE:',metrics.mean_squared_error(y_test1, predictionsDT, squared=True))\n",
    "print('RMSE:',np.sqrt(metrics.mean_squared_error(y_test1, predictionsDT, squared=False)))\n",
    "print('-------------------------------------------------------------')\n",
    "print('LinearRegressor results:\\n')\n",
    "print('MAE:',metrics.mean_absolute_error(y_test1,predictionsLR))\n",
    "print('MSE:',metrics.mean_squared_error(y_test1, predictionsLR))\n",
    "print('RMSE:',np.sqrt(metrics.mean_squared_error(y_test1, predictionsLR)))\n",
    "\n"
   ]
  },
  {
   "cell_type": "code",
   "execution_count": null,
   "metadata": {},
   "outputs": [],
   "source": []
  }
 ],
 "metadata": {
  "kernelspec": {
   "display_name": "mypython3version",
   "language": "python",
   "name": "python3"
  },
  "language_info": {
   "codemirror_mode": {
    "name": "ipython",
    "version": 3
   },
   "file_extension": ".py",
   "mimetype": "text/x-python",
   "name": "python",
   "nbconvert_exporter": "python",
   "pygments_lexer": "ipython3",
   "version": "3.6.13"
  },
  "orig_nbformat": 4,
  "vscode": {
   "interpreter": {
    "hash": "0c5c92aa87432ce4673b9209572da621a2c612e6a643b8675ec86e57819ef444"
   }
  }
 },
 "nbformat": 4,
 "nbformat_minor": 2
}
